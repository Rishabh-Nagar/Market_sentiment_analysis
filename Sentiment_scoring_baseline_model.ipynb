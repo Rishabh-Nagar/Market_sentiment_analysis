{
 "cells": [
  {
   "cell_type": "markdown",
   "id": "ab719ea8",
   "metadata": {},
   "source": [
    "## Importing the libraries"
   ]
  },
  {
   "cell_type": "code",
   "execution_count": 1,
   "id": "fb30d306",
   "metadata": {},
   "outputs": [],
   "source": [
    "from nltk import sent_tokenize, pos_tag\n",
    "from nltk.tokenize import TreebankWordTokenizer\n",
    "from nltk.stem import WordNetLemmatizer\n",
    "from nltk.corpus import wordnet as wn\n",
    "from nltk.corpus import sentiwordnet as swn\n",
    "from nltk.sentiment.util import mark_negation\n",
    "from string import punctuation\n",
    "from IPython.display import display\n",
    "import pandas as pd\n",
    "import numpy as np\n",
    "import seaborn as sns\n",
    "import matplotlib.pyplot as plt\n",
    "pd.set_option('display.max_columns', None)\n",
    "pd.set_option('display.max_colwidth', None)"
   ]
  },
  {
   "cell_type": "code",
   "execution_count": 2,
   "id": "224c213d",
   "metadata": {},
   "outputs": [],
   "source": [
    "def penn_to_wn(tag):\n",
    "    \"\"\"\n",
    "        Convert between the PennTreebank tags to simple Wordnet tags\n",
    "    \"\"\"\n",
    "    if tag.startswith('J'):\n",
    "        return wn.ADJ\n",
    "    elif tag.startswith('N'):\n",
    "        return wn.NOUN\n",
    "    elif tag.startswith('R'):\n",
    "        return wn.ADV\n",
    "    elif tag.startswith('V'):\n",
    "        return wn.VERB\n",
    "    return None"
   ]
  },
  {
   "cell_type": "code",
   "execution_count": 3,
   "id": "3a3fd5f7",
   "metadata": {},
   "outputs": [],
   "source": [
    "def get_sentiment_score(text):\n",
    "    \n",
    "    \"\"\"\n",
    "        This method returns the sentiment score of a given text using SentiWordNet sentiment scores.\n",
    "        input: text\n",
    "        output: numeric (double) score, >0 means positive sentiment and <0 means negative sentiment.\n",
    "    \"\"\"    \n",
    "    total_score = 0\n",
    "    raw_sentences = sent_tokenize(text)\n",
    "    \n",
    "    for sentence in raw_sentences:\n",
    "\n",
    "        sent_score = 0     \n",
    "        sentence = str(sentence)\n",
    "        sentence = sentence.replace(\"<br />\",\" \").translate(str.maketrans('','',punctuation)).lower()\n",
    "        tokens = TreebankWordTokenizer().tokenize(text)\n",
    "        tags = pos_tag(tokens)\n",
    "        for word, tag in tags:\n",
    "            wn_tag = penn_to_wn(tag)\n",
    "            if not wn_tag:\n",
    "                continue\n",
    "            lemma = WordNetLemmatizer().lemmatize(word, pos=wn_tag)\n",
    "            if not lemma:\n",
    "                continue\n",
    "            synsets = wn.synsets(lemma, pos=wn_tag)\n",
    "            if not synsets:\n",
    "                continue\n",
    "            synset = synsets[0]\n",
    "            swn_synset = swn.senti_synset(synset.name())\n",
    "            sent_score += swn_synset.pos_score() - swn_synset.neg_score()\n",
    "\n",
    "        total_score = total_score + (sent_score / len(tokens))\n",
    "\n",
    "    \n",
    "    return (total_score / len(raw_sentences)) * 100\n"
   ]
  },
  {
   "cell_type": "code",
   "execution_count": 4,
   "id": "061f3ca1",
   "metadata": {},
   "outputs": [],
   "source": [
    "reviews = pd.read_csv(\"small_data.csv\")"
   ]
  },
  {
   "cell_type": "code",
   "execution_count": 5,
   "id": "ca62adbd",
   "metadata": {},
   "outputs": [
    {
     "data": {
      "text/plain": [
       "(4500, 12)"
      ]
     },
     "execution_count": 5,
     "metadata": {},
     "output_type": "execute_result"
    }
   ],
   "source": [
    "reviews.shape"
   ]
  },
  {
   "cell_type": "code",
   "execution_count": 6,
   "id": "c787f9b4",
   "metadata": {
    "scrolled": false
   },
   "outputs": [
    {
     "data": {
      "text/html": [
       "<div>\n",
       "<style scoped>\n",
       "    .dataframe tbody tr th:only-of-type {\n",
       "        vertical-align: middle;\n",
       "    }\n",
       "\n",
       "    .dataframe tbody tr th {\n",
       "        vertical-align: top;\n",
       "    }\n",
       "\n",
       "    .dataframe thead th {\n",
       "        text-align: right;\n",
       "    }\n",
       "</style>\n",
       "<table border=\"1\" class=\"dataframe\">\n",
       "  <thead>\n",
       "    <tr style=\"text-align: right;\">\n",
       "      <th></th>\n",
       "      <th>overall</th>\n",
       "      <th>verified</th>\n",
       "      <th>reviewTime</th>\n",
       "      <th>reviewerID</th>\n",
       "      <th>asin</th>\n",
       "      <th>reviewerName</th>\n",
       "      <th>reviewText</th>\n",
       "      <th>summary</th>\n",
       "      <th>unixReviewTime</th>\n",
       "      <th>vote</th>\n",
       "      <th>style</th>\n",
       "      <th>image</th>\n",
       "    </tr>\n",
       "  </thead>\n",
       "  <tbody>\n",
       "    <tr>\n",
       "      <th>0</th>\n",
       "      <td>1.0</td>\n",
       "      <td>False</td>\n",
       "      <td>11 18, 2015</td>\n",
       "      <td>A2ZBZ74VIW6SDJ</td>\n",
       "      <td>B00W8FYF56</td>\n",
       "      <td>Aaron B.</td>\n",
       "      <td>. . . The ability to destroy a franchise is insignificant next to the power of the PS4.\\n\\nAs a real Star Wars geek and Battlefront II (PS2) veteran, I echo the critics sentiments: EA falls short again.  This game is nothing but online battles with/against vulgar 12-year-olds and ber elitists who take the game way too seriously.  There is no single-player story or campaign mode.  There are no real space battlesthey took the star out of Star Wars.  Its nothing but a lackluster first-person shooter (or a rail shooter for the speeder bikes, which actually aren't too bad).\\n\\nSound:\\nThe music doesnt particularly stand out (nor should it), but they did a great job of recording Star Wars music.  I have (and am familiar with) all the film soundtracks, and I appreciate the verisimilitude.  The voice acting is terrible, however.  Princess Leia sounds nothing like the films.  Nor does Vader.  There are so many great Darth Vader voice synthesizers out there, but they couldn't bother.  Just about anybody can do a better Darth Vader impression than whomever they cast.  Admiral Ackbar doesnt sound too bad though.\\n\\nGraphics:\\nThe graphics are picturesque, which is a pity because this is a video game and not a picture.  As aesthetic as they may be, theres a limited range pop-up, which makes shooting flying vehicles from the ground improbable.  The waypoint markers block your view and are often off-target.  But they did a really good job of making beautiful, screen-accurate locales.\\n\\nControls:\\nThe controls are nice and responsive, but the default control scheme is limited and backwards.  Youd expect a version (or at least a variant) of the Star Wars Battlefront II controls, but nope.  They have a few setting to swap buttons, but there aren't many options.  Theres no ability to roll the X-wing, which is integral to any flight simulator.  Its basically a flying snowmobile that gets stuck upside-down a lot.  The Jedi are the same as in Battlefront II, only the Jedi are slower and need to recharge for ten seconds after using the Force, because, you know, that makes sense.\\n\\nFun Factor:\\nThis game is an online FPS and nothing more.  Anything the game offers is better found in Call of Duty or Battlefield, whichever camp you find yourself in.  You can try to play it sheerly for the Star Wars brand, but the game will ruin itself for you quickly.  What an incredible disappointment.  We were all hoping for an updated/rebooted Battlefront II after ten years, but EA admitted that a real (non-cloned) game isn't worth its time.  EA earned Consumerists Worst Company in America award (beating tardy airlines and shifty banks) twice for this reason.</td>\n",
       "      <td>\"Don't be too proud of this technological terror you've constructed. . . . \"</td>\n",
       "      <td>1447804800</td>\n",
       "      <td>75.0</td>\n",
       "      <td>{'Format:': ' Video Game'}</td>\n",
       "      <td>NaN</td>\n",
       "    </tr>\n",
       "    <tr>\n",
       "      <th>1</th>\n",
       "      <td>1.0</td>\n",
       "      <td>True</td>\n",
       "      <td>02 3, 2012</td>\n",
       "      <td>A1AL9R7KUE049Y</td>\n",
       "      <td>B000VRCNLG</td>\n",
       "      <td>mopar</td>\n",
       "      <td>Years ago I had an early version of the microsoft combat game and it worked super on a windows 95. i now have a windows 7 with a logitech ext. 3d joystick. I had great hopes when i loaded up this game,boy was I dissapointed when I tried to fly a legendary Mustang. The aircraft couldn't climb and do a loop no matter how fast i was going. It turned like a oil tanker ,and couldn't go very fast even flying straight and level. Then i tried the P-80,it flew no better. A waste of hard earned cash , at least for me it was. mopar</td>\n",
       "      <td>p-51 flys like a brick with a anchor</td>\n",
       "      <td>1328227200</td>\n",
       "      <td>2.0</td>\n",
       "      <td>NaN</td>\n",
       "      <td>NaN</td>\n",
       "    </tr>\n",
       "    <tr>\n",
       "      <th>2</th>\n",
       "      <td>1.0</td>\n",
       "      <td>False</td>\n",
       "      <td>11 23, 2008</td>\n",
       "      <td>AF2HX24P7K1FF</td>\n",
       "      <td>B00166R2RQ</td>\n",
       "      <td>Zen*Yogi*Girl</td>\n",
       "      <td>We got this looking for another game that would work with the Wii Fit board! Its about to be returned!!\\nI agree with the other reviews  - this game has some serious flaws which affect playability and general fun!\\nFirst Wii Cheer had a great idea in allowing you to use one remote in each hand to execute the moves - this game, in contrast,  has you use the remote in one hand and nunchuck in the other. This idea might work if you are a child...a little child, but as the cord between the two is not that long, the moves are either restricted or impossible to perform for an adult or even a child above 8/9!!\\nSecond is the annoying delay - some of the moves you do are recognized too late if at all, the  other times it identifies moves made, that have not actually been performed!! Add to this the need to calibrate the board between each dance set which adds a delay between play  -very fustrating!!\\nThis is a cute idea, but like many Wii games, it seems it may have been rushed to market before the kinks were worked out...its a shame!!</td>\n",
       "      <td>Slowwwwww and flawed!!</td>\n",
       "      <td>1227398400</td>\n",
       "      <td>15.0</td>\n",
       "      <td>{'Platform:': ' Nintendo Wii'}</td>\n",
       "      <td>NaN</td>\n",
       "    </tr>\n",
       "    <tr>\n",
       "      <th>3</th>\n",
       "      <td>1.0</td>\n",
       "      <td>False</td>\n",
       "      <td>01 17, 2014</td>\n",
       "      <td>A3J0DO0V4959LM</td>\n",
       "      <td>B001C58T46</td>\n",
       "      <td>Amy_Ro</td>\n",
       "      <td>Bought it, disc didn't work, seller REFUSED to help or refund my money.  I was screwed out of money.  DO NOT BUY!!!  Buy it from Gamestop if you have to.</td>\n",
       "      <td>Bought it, disc didn't work, seller REFUSED to ...</td>\n",
       "      <td>1389916800</td>\n",
       "      <td>NaN</td>\n",
       "      <td>NaN</td>\n",
       "      <td>NaN</td>\n",
       "    </tr>\n",
       "    <tr>\n",
       "      <th>4</th>\n",
       "      <td>1.0</td>\n",
       "      <td>True</td>\n",
       "      <td>06 27, 2009</td>\n",
       "      <td>ACJHQDET85KJ2</td>\n",
       "      <td>B000BC38LA</td>\n",
       "      <td>J. Akins</td>\n",
       "      <td>I have a VOODOO top of the line line rig so the problems are not with the PC.IT is in the game. Freezes up,Black screen,blue screen,yellow screen,When turning half the screen goes blank sometimes. Not worth the price or effort. It got to the point that my pc would shut down on the blue screen of death.( The pc closed down to prevent damage )Near the end of the game it just quit loading. The loading bar would freeze about half way so I never got to finish the game. BEWARE THIS GAME COULD DAMAGE YOUR COMPUTER!!!!!!</td>\n",
       "      <td>BUGS,BUGS EVERY WHERE BUGS</td>\n",
       "      <td>1246060800</td>\n",
       "      <td>NaN</td>\n",
       "      <td>NaN</td>\n",
       "      <td>NaN</td>\n",
       "    </tr>\n",
       "  </tbody>\n",
       "</table>\n",
       "</div>"
      ],
      "text/plain": [
       "   overall  verified   reviewTime      reviewerID        asin   reviewerName  \\\n",
       "0      1.0     False  11 18, 2015  A2ZBZ74VIW6SDJ  B00W8FYF56       Aaron B.   \n",
       "1      1.0      True   02 3, 2012  A1AL9R7KUE049Y  B000VRCNLG          mopar   \n",
       "2      1.0     False  11 23, 2008   AF2HX24P7K1FF  B00166R2RQ  Zen*Yogi*Girl   \n",
       "3      1.0     False  01 17, 2014  A3J0DO0V4959LM  B001C58T46         Amy_Ro   \n",
       "4      1.0      True  06 27, 2009   ACJHQDET85KJ2  B000BC38LA       J. Akins   \n",
       "\n",
       "                                                                                                                                                                                                                                                                                                                                                                                                                                                                                                                                                                                                                                                                                                                                                                                                                                                                                                                                                                                                                                                                                                                                                                                                                                                                                                                                                                                                                                                                                                                                                                                                                                                                                                                                                                                                                                                                                                                                                                                                                                                                                                                                                                                                                                                                                                                                                                                                                                                                                                                                                                                                                                                                                                                                                                      reviewText  \\\n",
       "0  . . . The ability to destroy a franchise is insignificant next to the power of the PS4.\\n\\nAs a real Star Wars geek and Battlefront II (PS2) veteran, I echo the critics sentiments: EA falls short again.  This game is nothing but online battles with/against vulgar 12-year-olds and ber elitists who take the game way too seriously.  There is no single-player story or campaign mode.  There are no real space battlesthey took the star out of Star Wars.  Its nothing but a lackluster first-person shooter (or a rail shooter for the speeder bikes, which actually aren't too bad).\\n\\nSound:\\nThe music doesnt particularly stand out (nor should it), but they did a great job of recording Star Wars music.  I have (and am familiar with) all the film soundtracks, and I appreciate the verisimilitude.  The voice acting is terrible, however.  Princess Leia sounds nothing like the films.  Nor does Vader.  There are so many great Darth Vader voice synthesizers out there, but they couldn't bother.  Just about anybody can do a better Darth Vader impression than whomever they cast.  Admiral Ackbar doesnt sound too bad though.\\n\\nGraphics:\\nThe graphics are picturesque, which is a pity because this is a video game and not a picture.  As aesthetic as they may be, theres a limited range pop-up, which makes shooting flying vehicles from the ground improbable.  The waypoint markers block your view and are often off-target.  But they did a really good job of making beautiful, screen-accurate locales.\\n\\nControls:\\nThe controls are nice and responsive, but the default control scheme is limited and backwards.  Youd expect a version (or at least a variant) of the Star Wars Battlefront II controls, but nope.  They have a few setting to swap buttons, but there aren't many options.  Theres no ability to roll the X-wing, which is integral to any flight simulator.  Its basically a flying snowmobile that gets stuck upside-down a lot.  The Jedi are the same as in Battlefront II, only the Jedi are slower and need to recharge for ten seconds after using the Force, because, you know, that makes sense.\\n\\nFun Factor:\\nThis game is an online FPS and nothing more.  Anything the game offers is better found in Call of Duty or Battlefield, whichever camp you find yourself in.  You can try to play it sheerly for the Star Wars brand, but the game will ruin itself for you quickly.  What an incredible disappointment.  We were all hoping for an updated/rebooted Battlefront II after ten years, but EA admitted that a real (non-cloned) game isn't worth its time.  EA earned Consumerists Worst Company in America award (beating tardy airlines and shifty banks) twice for this reason.   \n",
       "1                                                                                                                                                                                                                                                                                                                                                                                                                                                                                                                                                                                                                                                                                                                                                                                                                                                                                                                                                                                                                                                                                                                                                                                                                                                                                                                                                                                                                                                                                                                                                                                                                                                                                                                                                                                                                                                                                                                                                                                                                                                                                                                                                                                                                                 Years ago I had an early version of the microsoft combat game and it worked super on a windows 95. i now have a windows 7 with a logitech ext. 3d joystick. I had great hopes when i loaded up this game,boy was I dissapointed when I tried to fly a legendary Mustang. The aircraft couldn't climb and do a loop no matter how fast i was going. It turned like a oil tanker ,and couldn't go very fast even flying straight and level. Then i tried the P-80,it flew no better. A waste of hard earned cash , at least for me it was. mopar   \n",
       "2                                                                                                                                                                                                                                                                                                                                                                                                                                                                                                                                                                                                                                                                                                                                                                                                                                                                                                                                                                                                                                                                                                                                                                                                                                                                                                                                                                                                                                                                                                                                                                                                                                                                                            We got this looking for another game that would work with the Wii Fit board! Its about to be returned!!\\nI agree with the other reviews  - this game has some serious flaws which affect playability and general fun!\\nFirst Wii Cheer had a great idea in allowing you to use one remote in each hand to execute the moves - this game, in contrast,  has you use the remote in one hand and nunchuck in the other. This idea might work if you are a child...a little child, but as the cord between the two is not that long, the moves are either restricted or impossible to perform for an adult or even a child above 8/9!!\\nSecond is the annoying delay - some of the moves you do are recognized too late if at all, the  other times it identifies moves made, that have not actually been performed!! Add to this the need to calibrate the board between each dance set which adds a delay between play  -very fustrating!!\\nThis is a cute idea, but like many Wii games, it seems it may have been rushed to market before the kinks were worked out...its a shame!!   \n",
       "3                                                                                                                                                                                                                                                                                                                                                                                                                                                                                                                                                                                                                                                                                                                                                                                                                                                                                                                                                                                                                                                                                                                                                                                                                                                                                                                                                                                                                                                                                                                                                                                                                                                                                                                                                                                                                                                                                                                                                                                                                                                                                                                                                                                                                                                                                                                                                                                                                                                                                                                                                                                                                      Bought it, disc didn't work, seller REFUSED to help or refund my money.  I was screwed out of money.  DO NOT BUY!!!  Buy it from Gamestop if you have to.   \n",
       "4                                                                                                                                                                                                                                                                                                                                                                                                                                                                                                                                                                                                                                                                                                                                                                                                                                                                                                                                                                                                                                                                                                                                                                                                                                                                                                                                                                                                                                                                                                                                                                                                                                                                                                                                                                                                                                                                                                                                                                                                                                                                                                                                                                                                                                         I have a VOODOO top of the line line rig so the problems are not with the PC.IT is in the game. Freezes up,Black screen,blue screen,yellow screen,When turning half the screen goes blank sometimes. Not worth the price or effort. It got to the point that my pc would shut down on the blue screen of death.( The pc closed down to prevent damage )Near the end of the game it just quit loading. The loading bar would freeze about half way so I never got to finish the game. BEWARE THIS GAME COULD DAMAGE YOUR COMPUTER!!!!!!   \n",
       "\n",
       "                                                                        summary  \\\n",
       "0  \"Don't be too proud of this technological terror you've constructed. . . . \"   \n",
       "1                                          p-51 flys like a brick with a anchor   \n",
       "2                                                        Slowwwwww and flawed!!   \n",
       "3                            Bought it, disc didn't work, seller REFUSED to ...   \n",
       "4                                                    BUGS,BUGS EVERY WHERE BUGS   \n",
       "\n",
       "   unixReviewTime  vote                           style image  \n",
       "0      1447804800  75.0      {'Format:': ' Video Game'}   NaN  \n",
       "1      1328227200   2.0                             NaN   NaN  \n",
       "2      1227398400  15.0  {'Platform:': ' Nintendo Wii'}   NaN  \n",
       "3      1389916800   NaN                             NaN   NaN  \n",
       "4      1246060800   NaN                             NaN   NaN  "
      ]
     },
     "execution_count": 6,
     "metadata": {},
     "output_type": "execute_result"
    }
   ],
   "source": [
    "reviews.head()"
   ]
  },
  {
   "cell_type": "code",
   "execution_count": 7,
   "id": "49656f59",
   "metadata": {},
   "outputs": [],
   "source": [
    "reviews.dropna(subset=['reviewText'], inplace=True)"
   ]
  },
  {
   "cell_type": "code",
   "execution_count": 8,
   "id": "1438c3da",
   "metadata": {},
   "outputs": [
    {
     "data": {
      "text/plain": [
       "(4499, 12)"
      ]
     },
     "execution_count": 8,
     "metadata": {},
     "output_type": "execute_result"
    }
   ],
   "source": [
    "reviews.shape"
   ]
  },
  {
   "cell_type": "code",
   "execution_count": 9,
   "id": "1b9c1fa0",
   "metadata": {},
   "outputs": [],
   "source": [
    "reviews['swn_score'] = reviews['reviewText'].apply(lambda text : get_sentiment_score(text))"
   ]
  },
  {
   "cell_type": "markdown",
   "id": "32946cc8",
   "metadata": {},
   "source": [
    "### Sample outputs"
   ]
  },
  {
   "cell_type": "code",
   "execution_count": 10,
   "id": "23c3590c",
   "metadata": {
    "scrolled": true
   },
   "outputs": [
    {
     "data": {
      "text/html": [
       "<div>\n",
       "<style scoped>\n",
       "    .dataframe tbody tr th:only-of-type {\n",
       "        vertical-align: middle;\n",
       "    }\n",
       "\n",
       "    .dataframe tbody tr th {\n",
       "        vertical-align: top;\n",
       "    }\n",
       "\n",
       "    .dataframe thead th {\n",
       "        text-align: right;\n",
       "    }\n",
       "</style>\n",
       "<table border=\"1\" class=\"dataframe\">\n",
       "  <thead>\n",
       "    <tr style=\"text-align: right;\">\n",
       "      <th></th>\n",
       "      <th>reviewText</th>\n",
       "      <th>swn_score</th>\n",
       "    </tr>\n",
       "  </thead>\n",
       "  <tbody>\n",
       "    <tr>\n",
       "      <th>3210</th>\n",
       "      <td>I first discovered Professor Layton and the Curious Village when it was released and quickly became a fan of the series. With Professor Layton and the Diabolical Box, my love for the series remains the same. After completing the story line of the game I learned that all in all, this game has over 138 puzzles with a few hidden extra puzzles that I have yet to unlock. In addition to this, there are more puzzles that can be downloaded via Nintendo wi-fi connection. So if you love brainteasers, this game is chock full of them just like its predecessor. What makes the Professor Layton series different that just a collection of brain teasers is the mysterious story line attached to it, as well as it's wonderful art style.\\n\\nThe gameplay consists of Professor Layton and his apprentice Luke as they explore through charming European-like villages and a train all while trying to find the answer of the cryptic Elysian box. As you explore, there are puzzles that you come across that you can solve. If you get stuck with one of these brainteasers, there are hint coins you can find allowing you to unlock up to three hints per puzzle (which can come in handy for those tough ones). At the ending you'll have needed to solve at least 80 puzzles to be able to beat the game.\\n\\nThe story line for this game was nothing that I would have expected, which is good. I hate figuring out the ending at the beginning, but I honestly had no idea and was surprised in an unrealistic turn of events in the end. (I think I found a plot hole, but I don't mind pardoning it because the idea was original enough in the first place). Anyway, The story is illustrated through fabulous animated cutscenes and makes you crave for more as you wish to learn more about the intriguing characters that you are presented. There seems to be more voice acting than the first game as well. Also if you have not played the first, you can easily play this one because there are no spoilers to the first one in this one--there are returning characters, but you are not told how you met in the previous game.\\n\\nWhere this game is better than the first:\\nI like being able to explore multiple places/towns.\\nI liked the addition of Flora in this game, even though she does not solve the puzzles herself, she does join you at times.\\n\\nAdditional features that are so/so:\\nThere is a tea mixing minigame, it's fun, but can be frustrating trying to figure out the exact ingredients.\\nThere is a hamster minigame where you try to make the hamster lose weight. (Wii fit anyone?)\\n\\nAny negatives?\\nWell, the story did seem way out there and unrealistic, but thats okay, at least it was not predictable.\\n\\nAll in all this game is definitely worth 30 bucks and is refreshing, charming and a workout for your brain. I am totally jealous Japan already has two more games and movie and can't wait for the next one to be released here.</td>\n",
       "      <td>1.906028</td>\n",
       "    </tr>\n",
       "    <tr>\n",
       "      <th>4061</th>\n",
       "      <td>Socom 2 is one of those games that changes gaming everywhere. Kind of like how Halo and Metroid Prime described how an FPS should be and how Soul Calibur showed how Fighting games should be made on next genn systems Socom showed how Online Gaming is meant to be played.\\nFor Noobs to the game, socom is about you leading a group of Navy Seals and doing various missions. But this isn't a shoot em up game, oh no its not. This is a game based on stealth. You use foilage, just like real Navy Seals to get to your desiginated goals and your point in the game is to not be fast, but to be quiet and efficient. On your tv is only half the game though, the game really starts when you hit it online.\\nOnline Socom is amazing. There's a headset, where you can talk to your teamates on and there are desginated missions for you and you counter-sterrorists/navy seals team to do. There's always a feeling like your actually in them game, something the headset really helps you with. It brings the game to life alot. It's as if anything you feel you say like if someone's being dumb and your thinking omg look at this idiot hes gonna get killed - you can say it right on the spot - no typing likein counter-strike just straight up talking.\\nThe gameplay in Socom isn't the only good thing. Yje graphics and sound are well done too. Not online the sound seems to have alot of polish on it. The guns sound genuine, the voices are done well, especially the german and other european languages - they all are accurate and well done.\\nSo if you looking for a great game with alot of polish buy this game. Its very interactive and has alot of value on it. And remember although the game is fun on your tv, it's even more fun when you get online.</td>\n",
       "      <td>1.645977</td>\n",
       "    </tr>\n",
       "  </tbody>\n",
       "</table>\n",
       "</div>"
      ],
      "text/plain": [
       "                                                                                                                                                                                                                                                                                                                                                                                                                                                                                                                                                                                                                                                                                                                                                                                                                                                                                                                                                                                                                                                                                                                                                                                                                                                                                                                                                                                                                                                                                                                                                                                                                                                                                                                                                                                                                                                                                                                                                                                                                                                                                                                                                                                                                                                                                                                                                                                                                                                                                                                                                                                                                                                                                                                                                                                                                                                                                                                                                                                                             reviewText  \\\n",
       "3210  I first discovered Professor Layton and the Curious Village when it was released and quickly became a fan of the series. With Professor Layton and the Diabolical Box, my love for the series remains the same. After completing the story line of the game I learned that all in all, this game has over 138 puzzles with a few hidden extra puzzles that I have yet to unlock. In addition to this, there are more puzzles that can be downloaded via Nintendo wi-fi connection. So if you love brainteasers, this game is chock full of them just like its predecessor. What makes the Professor Layton series different that just a collection of brain teasers is the mysterious story line attached to it, as well as it's wonderful art style.\\n\\nThe gameplay consists of Professor Layton and his apprentice Luke as they explore through charming European-like villages and a train all while trying to find the answer of the cryptic Elysian box. As you explore, there are puzzles that you come across that you can solve. If you get stuck with one of these brainteasers, there are hint coins you can find allowing you to unlock up to three hints per puzzle (which can come in handy for those tough ones). At the ending you'll have needed to solve at least 80 puzzles to be able to beat the game.\\n\\nThe story line for this game was nothing that I would have expected, which is good. I hate figuring out the ending at the beginning, but I honestly had no idea and was surprised in an unrealistic turn of events in the end. (I think I found a plot hole, but I don't mind pardoning it because the idea was original enough in the first place). Anyway, The story is illustrated through fabulous animated cutscenes and makes you crave for more as you wish to learn more about the intriguing characters that you are presented. There seems to be more voice acting than the first game as well. Also if you have not played the first, you can easily play this one because there are no spoilers to the first one in this one--there are returning characters, but you are not told how you met in the previous game.\\n\\nWhere this game is better than the first:\\nI like being able to explore multiple places/towns.\\nI liked the addition of Flora in this game, even though she does not solve the puzzles herself, she does join you at times.\\n\\nAdditional features that are so/so:\\nThere is a tea mixing minigame, it's fun, but can be frustrating trying to figure out the exact ingredients.\\nThere is a hamster minigame where you try to make the hamster lose weight. (Wii fit anyone?)\\n\\nAny negatives?\\nWell, the story did seem way out there and unrealistic, but thats okay, at least it was not predictable.\\n\\nAll in all this game is definitely worth 30 bucks and is refreshing, charming and a workout for your brain. I am totally jealous Japan already has two more games and movie and can't wait for the next one to be released here.   \n",
       "4061                                                                                                                                                                                                                                                                                                                                                                                                                                                                                                                                                                                                                                                                                                                                                                                                                                                                                                                                                                                                                                                                                                                                                                                                                 Socom 2 is one of those games that changes gaming everywhere. Kind of like how Halo and Metroid Prime described how an FPS should be and how Soul Calibur showed how Fighting games should be made on next genn systems Socom showed how Online Gaming is meant to be played.\\nFor Noobs to the game, socom is about you leading a group of Navy Seals and doing various missions. But this isn't a shoot em up game, oh no its not. This is a game based on stealth. You use foilage, just like real Navy Seals to get to your desiginated goals and your point in the game is to not be fast, but to be quiet and efficient. On your tv is only half the game though, the game really starts when you hit it online.\\nOnline Socom is amazing. There's a headset, where you can talk to your teamates on and there are desginated missions for you and you counter-sterrorists/navy seals team to do. There's always a feeling like your actually in them game, something the headset really helps you with. It brings the game to life alot. It's as if anything you feel you say like if someone's being dumb and your thinking omg look at this idiot hes gonna get killed - you can say it right on the spot - no typing likein counter-strike just straight up talking.\\nThe gameplay in Socom isn't the only good thing. Yje graphics and sound are well done too. Not online the sound seems to have alot of polish on it. The guns sound genuine, the voices are done well, especially the german and other european languages - they all are accurate and well done.\\nSo if you looking for a great game with alot of polish buy this game. Its very interactive and has alot of value on it. And remember although the game is fun on your tv, it's even more fun when you get online.   \n",
       "\n",
       "      swn_score  \n",
       "3210   1.906028  \n",
       "4061   1.645977  "
      ]
     },
     "execution_count": 10,
     "metadata": {},
     "output_type": "execute_result"
    }
   ],
   "source": [
    "reviews[['reviewText','swn_score']].sample(2)"
   ]
  },
  {
   "cell_type": "code",
   "execution_count": 11,
   "id": "1dfc301f",
   "metadata": {},
   "outputs": [
    {
     "data": {
      "text/html": [
       "<div>\n",
       "<style scoped>\n",
       "    .dataframe tbody tr th:only-of-type {\n",
       "        vertical-align: middle;\n",
       "    }\n",
       "\n",
       "    .dataframe tbody tr th {\n",
       "        vertical-align: top;\n",
       "    }\n",
       "\n",
       "    .dataframe thead th {\n",
       "        text-align: right;\n",
       "    }\n",
       "</style>\n",
       "<table border=\"1\" class=\"dataframe\">\n",
       "  <thead>\n",
       "    <tr style=\"text-align: right;\">\n",
       "      <th></th>\n",
       "      <th>reviewText</th>\n",
       "      <th>swn_score</th>\n",
       "    </tr>\n",
       "  </thead>\n",
       "  <tbody>\n",
       "    <tr>\n",
       "      <th>2190</th>\n",
       "      <td>The graphics are good and the puzzles are enjoyable and not too hard, but the story, to me, is cheesy enough to be distractable.  If you can allow yourself to be pursued by something called \"The Shadow Legion\" without falling out, you should be okay.  I often felt as if I was walking around inside a child's cartoon, and a bad one.  However, if you're looking at a game called \"The Sacred Rings\" (like I did), the fantasy elements shouldn't be a problem.  Overall, the game was engaging and fun to play- the tram rides are a great way to travel!- but it often seemed as if the sappy adventure story was simply in place to accomodate the puzzles.</td>\n",
       "      <td>0.629496</td>\n",
       "    </tr>\n",
       "    <tr>\n",
       "      <th>4321</th>\n",
       "      <td>good game</td>\n",
       "      <td>37.500000</td>\n",
       "    </tr>\n",
       "  </tbody>\n",
       "</table>\n",
       "</div>"
      ],
      "text/plain": [
       "                                                                                                                                                                                                                                                                                                                                                                                                                                                                                                                                                                                                                                                                  reviewText  \\\n",
       "2190  The graphics are good and the puzzles are enjoyable and not too hard, but the story, to me, is cheesy enough to be distractable.  If you can allow yourself to be pursued by something called \"The Shadow Legion\" without falling out, you should be okay.  I often felt as if I was walking around inside a child's cartoon, and a bad one.  However, if you're looking at a game called \"The Sacred Rings\" (like I did), the fantasy elements shouldn't be a problem.  Overall, the game was engaging and fun to play- the tram rides are a great way to travel!- but it often seemed as if the sappy adventure story was simply in place to accomodate the puzzles.   \n",
       "4321                                                                                                                                                                                                                                                                                                                                                                                                                                                                                                                                                                                                                                                               good game   \n",
       "\n",
       "      swn_score  \n",
       "2190   0.629496  \n",
       "4321  37.500000  "
      ]
     },
     "execution_count": 11,
     "metadata": {},
     "output_type": "execute_result"
    }
   ],
   "source": [
    "reviews[['reviewText','swn_score']].sample(2)"
   ]
  },
  {
   "cell_type": "code",
   "execution_count": 12,
   "id": "3b5e4022",
   "metadata": {},
   "outputs": [
    {
     "data": {
      "image/png": "[encoded data removed]",
      "text/plain": [
       "<Figure size 1440x720 with 1 Axes>"
      ]
     },
     "metadata": {
      "needs_background": "light"
     },
     "output_type": "display_data"
    }
   ],
   "source": [
    "fig , ax = plt.subplots(nrows=1, ncols=1, figsize=(20,10))\n",
    "sns.histplot(x='swn_score', data=reviews.query(\"swn_score < 8 and swn_score > -8\"), ax=ax)\n",
    "plt.show()"
   ]
  },
  {
   "cell_type": "code",
   "execution_count": 13,
   "id": "06709a43",
   "metadata": {},
   "outputs": [],
   "source": [
    "reviews['swn_sentiment'] = reviews['swn_score'].apply(lambda x: \"positive\" if x>1 else (\"negative\" if x<0.5 else \"neutral\"))"
   ]
  },
  {
   "cell_type": "code",
   "execution_count": 14,
   "id": "31314fad",
   "metadata": {},
   "outputs": [
    {
     "data": {
      "text/plain": [
       "positive    2223\n",
       "negative    1774\n",
       "neutral      502\n",
       "Name: swn_sentiment, dtype: int64"
      ]
     },
     "execution_count": 14,
     "metadata": {},
     "output_type": "execute_result"
    }
   ],
   "source": [
    "reviews['swn_sentiment'].value_counts(dropna=False)"
   ]
  },
  {
   "cell_type": "code",
   "execution_count": 15,
   "id": "7a4e98c6",
   "metadata": {},
   "outputs": [
    {
     "data": {
      "text/plain": [
       "<AxesSubplot:xlabel='overall', ylabel='count'>"
      ]
     },
     "execution_count": 15,
     "metadata": {},
     "output_type": "execute_result"
    },
    {
     "data": {
      "image/png": "[encoded data removed]",
      "text/plain": [
       "<Figure size 432x288 with 1 Axes>"
      ]
     },
     "metadata": {
      "needs_background": "light"
     },
     "output_type": "display_data"
    }
   ],
   "source": [
    "sns.countplot(x='overall', hue='swn_sentiment' ,data = reviews)"
   ]
  },
  {
   "cell_type": "code",
   "execution_count": 16,
   "id": "12993c84",
   "metadata": {},
   "outputs": [
    {
     "data": {
      "text/plain": [
       "<AxesSubplot:xlabel='swn_sentiment', ylabel='overall'>"
      ]
     },
     "execution_count": 16,
     "metadata": {},
     "output_type": "execute_result"
    },
    {
     "data": {
      "image/png": "[encoded data removed]",
      "text/plain": [
       "<Figure size 432x288 with 1 Axes>"
      ]
     },
     "metadata": {
      "needs_background": "light"
     },
     "output_type": "display_data"
    }
   ],
   "source": [
    "sns.boxenplot(x='swn_sentiment', y='overall', data = reviews)"
   ]
  },
  {
   "cell_type": "code",
   "execution_count": 17,
   "id": "0c3eb43f",
   "metadata": {},
   "outputs": [
    {
     "data": {
      "image/png": "[encoded data removed]",
      "text/plain": [
       "<Figure size 864x504 with 1 Axes>"
      ]
     },
     "metadata": {
      "needs_background": "light"
     },
     "output_type": "display_data"
    }
   ],
   "source": [
    "fig, ax = plt.subplots(nrows=1, ncols=1, figsize = (12,7))\n",
    "sns.boxenplot(x='overall', y='swn_score', data = reviews, ax=ax)\n",
    "plt.show()"
   ]
  },
  {
   "cell_type": "code",
   "execution_count": 18,
   "id": "f065a11c",
   "metadata": {},
   "outputs": [],
   "source": [
    "reviews['true_sentiment'] = \\\n",
    "    reviews['overall'].apply(lambda x: \"positive\" if x>=4 else (\"neutral\" if x==3 else \"negative\"))"
   ]
  },
  {
   "cell_type": "code",
   "execution_count": 19,
   "id": "3918ff54",
   "metadata": {},
   "outputs": [],
   "source": [
    "y_swn_pred, y_true = reviews['swn_sentiment'].tolist(), reviews['true_sentiment'].tolist()"
   ]
  },
  {
   "cell_type": "code",
   "execution_count": 20,
   "id": "0c17bd9e",
   "metadata": {},
   "outputs": [
    {
     "data": {
      "text/plain": [
       "(4499, 4499)"
      ]
     },
     "execution_count": 20,
     "metadata": {},
     "output_type": "execute_result"
    }
   ],
   "source": [
    "len(y_swn_pred), len(y_true)"
   ]
  },
  {
   "cell_type": "code",
   "execution_count": 21,
   "id": "602b781a",
   "metadata": {},
   "outputs": [],
   "source": [
    "from sklearn.metrics import confusion_matrix\n",
    "cm = confusion_matrix(y_true, y_swn_pred)"
   ]
  },
  {
   "cell_type": "code",
   "execution_count": 22,
   "id": "208fc1fe",
   "metadata": {},
   "outputs": [
    {
     "data": {
      "image/png": "[encoded data removed]",
      "text/plain": [
       "<Figure size 576x432 with 2 Axes>"
      ]
     },
     "metadata": {
      "needs_background": "light"
     },
     "output_type": "display_data"
    }
   ],
   "source": [
    "fig , ax = plt.subplots(nrows=1, ncols=1, figsize=(8,6))\n",
    "sns.heatmap(cm, cmap='viridis_r', annot=True, fmt='d', square=True, ax=ax)\n",
    "ax.set_xlabel('Predicted')\n",
    "ax.set_ylabel('True');"
   ]
  },
  {
   "cell_type": "markdown",
   "id": "b6e835e8",
   "metadata": {},
   "source": [
    "## Performance Assessment"
   ]
  },
  {
   "cell_type": "markdown",
   "id": "ba1a5b89",
   "metadata": {},
   "source": [
    "### Negative Sentiment Prediction Assessment"
   ]
  },
  {
   "cell_type": "code",
   "execution_count": 23,
   "id": "6fcc5133",
   "metadata": {},
   "outputs": [],
   "source": [
    "tp, tn, fp, fn = 1088, 70+242+142+1310, 265+647, 188+547"
   ]
  },
  {
   "cell_type": "code",
   "execution_count": 24,
   "id": "76a71e9c",
   "metadata": {},
   "outputs": [],
   "source": [
    "recall = tp / (tp+fn)\n",
    "specifity = tn / (tn+fp)\n",
    "precision = tp/(tp+fp)\n",
    "f1 = (2*tp) / (2*tp + fp + fn)"
   ]
  },
  {
   "cell_type": "code",
   "execution_count": 25,
   "id": "20b6c09a",
   "metadata": {},
   "outputs": [
    {
     "name": "stdout",
     "output_type": "stream",
     "text": [
      "recall: 0.5968184311574328\n",
      "precission: 0.544\n",
      "f1 score: 0.5691865027465342\n"
     ]
    }
   ],
   "source": [
    "print(\"recall: {}\\nprecission: {}\\nf1 score: {}\".format(recall, precision, f1))"
   ]
  },
  {
   "cell_type": "code",
   "execution_count": 23,
   "id": "1db61483",
   "metadata": {},
   "outputs": [
    {
     "name": "stdout",
     "output_type": "stream",
     "text": [
      "recall: 0.655327663831916\n",
      "precission: 0.5957253296953161\n",
      "f1 score: 0.6241067174845164\n"
     ]
    }
   ],
   "source": [
    "tp, tn, fp, fn = 1310, 1088+265+70+188, 242+647, 142+547\n",
    "recall = tp / (tp+fn)\n",
    "specifity = tn / (tn+fp)\n",
    "precision = tp/(tp+fp)\n",
    "f1 = (2*tp) / (2*tp + fp + fn)\n",
    "print(\"recall: {}\\nprecission: {}\\nf1 score: {}\".format(recall, precision, f1))"
   ]
  },
  {
   "cell_type": "markdown",
   "id": "4a9f925d",
   "metadata": {},
   "source": [
    "## Sentiment Scoring Model Using NLTK Opinion Lexicon"
   ]
  },
  {
   "cell_type": "code",
   "execution_count": 24,
   "id": "5188439f",
   "metadata": {},
   "outputs": [
    {
     "name": "stderr",
     "output_type": "stream",
     "text": [
      "[nltk_data] Downloading package opinion_lexicon to C:\\Users\\Rishabh\n",
      "[nltk_data]     Nagar\\AppData\\Roaming\\nltk_data...\n",
      "[nltk_data]   Unzipping corpora\\opinion_lexicon.zip.\n"
     ]
    },
    {
     "data": {
      "text/plain": [
       "True"
      ]
     },
     "execution_count": 24,
     "metadata": {},
     "output_type": "execute_result"
    }
   ],
   "source": [
    "import nltk\n",
    "from nltk.corpus import opinion_lexicon\n",
    "from nltk.tokenize import word_tokenize, sent_tokenize\n",
    "nltk.download(\"opinion_lexicon\")"
   ]
  },
  {
   "cell_type": "code",
   "execution_count": 25,
   "id": "bb798e5b",
   "metadata": {},
   "outputs": [],
   "source": [
    "pos_words = list(opinion_lexicon.positive())\n",
    "neg_words = list(opinion_lexicon.negative())"
   ]
  },
  {
   "cell_type": "code",
   "execution_count": 26,
   "id": "04b0ee16",
   "metadata": {},
   "outputs": [],
   "source": [
    "def get_sentiment_score_oplex(text):\n",
    "    \n",
    "    \"\"\"\n",
    "        This method returns the sentiment score of a given text using nltk opinion lexicon.\n",
    "        input: text\n",
    "        output: numeric (double) score, >0 means positive sentiment and <0 means negative sentiment.\n",
    "    \"\"\"    \n",
    "    total_score = 0\n",
    "\n",
    "    raw_sentences = sent_tokenize(text)\n",
    "    \n",
    "    for sentence in raw_sentences:\n",
    "\n",
    "        sent_score = 0     \n",
    "        sentence = str(sentence)\n",
    "        sentence = sentence.replace(\"<br />\",\" \").translate(str.maketrans('','',punctuation)).lower()\n",
    "        tokens = TreebankWordTokenizer().tokenize(text)\n",
    "        for token in tokens:\n",
    "            sent_score = sent_score + 1 if token in pos_words else (sent_score - 1 if token in neg_words else sent_score)\n",
    "        total_score = total_score + (sent_score / len(tokens))\n",
    "\n",
    "    \n",
    "    return total_score"
   ]
  },
  {
   "cell_type": "code",
   "execution_count": 27,
   "id": "8b6dbc27",
   "metadata": {},
   "outputs": [],
   "source": [
    "reviews['oplex_sentiment_score'] = reviews['reviewText'].apply(lambda x: get_sentiment_score_oplex(x))"
   ]
  },
  {
   "cell_type": "code",
   "execution_count": 28,
   "id": "cad99bfa",
   "metadata": {},
   "outputs": [
    {
     "data": {
      "image/png": "[encoded data removed]",
      "text/plain": [
       "<Figure size 1440x720 with 1 Axes>"
      ]
     },
     "metadata": {
      "needs_background": "light"
     },
     "output_type": "display_data"
    }
   ],
   "source": [
    "fig , ax = plt.subplots(nrows=1, ncols=1, figsize=(20,10))\n",
    "sns.histplot(x='oplex_sentiment_score',\\\n",
    "             data=reviews.query(\"oplex_sentiment_score < 1 and oplex_sentiment_score>-1\"), ax=ax)\n",
    "plt.show()\n"
   ]
  },
  {
   "cell_type": "code",
   "execution_count": 29,
   "id": "1e54402c",
   "metadata": {},
   "outputs": [],
   "source": [
    "reviews['oplex_sentiment'] = \\\n",
    "    reviews['oplex_sentiment_score'].apply(lambda x: \"positive\" if x>0.1 else (\"negative\" if x<0 else \"neutral\"))"
   ]
  },
  {
   "cell_type": "code",
   "execution_count": 30,
   "id": "2c27c7b3",
   "metadata": {},
   "outputs": [
    {
     "data": {
      "text/plain": [
       "positive    1846\n",
       "neutral     1583\n",
       "negative    1070\n",
       "Name: oplex_sentiment, dtype: int64"
      ]
     },
     "execution_count": 30,
     "metadata": {},
     "output_type": "execute_result"
    }
   ],
   "source": [
    "reviews['oplex_sentiment'].value_counts(dropna=False)"
   ]
  },
  {
   "cell_type": "code",
   "execution_count": 31,
   "id": "dfae5a7d",
   "metadata": {},
   "outputs": [
    {
     "data": {
      "text/plain": [
       "<AxesSubplot:xlabel='overall', ylabel='count'>"
      ]
     },
     "execution_count": 31,
     "metadata": {},
     "output_type": "execute_result"
    },
    {
     "data": {
      "image/png": "[encoded data removed]",
      "text/plain": [
       "<Figure size 432x288 with 1 Axes>"
      ]
     },
     "metadata": {
      "needs_background": "light"
     },
     "output_type": "display_data"
    }
   ],
   "source": [
    "sns.countplot(x='overall', hue='oplex_sentiment' ,data = reviews)"
   ]
  },
  {
   "cell_type": "code",
   "execution_count": 32,
   "id": "309ac5ac",
   "metadata": {},
   "outputs": [
    {
     "data": {
      "text/plain": [
       "<AxesSubplot:xlabel='oplex_sentiment', ylabel='overall'>"
      ]
     },
     "execution_count": 32,
     "metadata": {},
     "output_type": "execute_result"
    },
    {
     "data": {
      "image/png": "[encoded data removed]",
      "text/plain": [
       "<Figure size 432x288 with 1 Axes>"
      ]
     },
     "metadata": {
      "needs_background": "light"
     },
     "output_type": "display_data"
    }
   ],
   "source": [
    "sns.boxenplot(x='oplex_sentiment', y='overall', data = reviews)"
   ]
  },
  {
   "cell_type": "code",
   "execution_count": 33,
   "id": "05740101",
   "metadata": {},
   "outputs": [
    {
     "data": {
      "image/png": "[encoded data removed]",
      "text/plain": [
       "<Figure size 864x504 with 1 Axes>"
      ]
     },
     "metadata": {
      "needs_background": "light"
     },
     "output_type": "display_data"
    }
   ],
   "source": [
    "fig, ax = plt.subplots(nrows=1, ncols=1, figsize = (12,7))\n",
    "sns.boxenplot(x='overall', y='oplex_sentiment_score', data = reviews, ax=ax)\n",
    "plt.show()"
   ]
  },
  {
   "cell_type": "code",
   "execution_count": 34,
   "id": "00fc3583",
   "metadata": {},
   "outputs": [
    {
     "data": {
      "image/png": "[encoded data removed]",
      "text/plain": [
       "<Figure size 576x432 with 2 Axes>"
      ]
     },
     "metadata": {
      "needs_background": "light"
     },
     "output_type": "display_data"
    }
   ],
   "source": [
    "y_oplex_pred = reviews['oplex_sentiment'].tolist()\n",
    "oplex_cm = confusion_matrix(y_true, y_oplex_pred)\n",
    "fig , ax = plt.subplots(nrows=1, ncols=1, figsize=(8,6))\n",
    "sns.heatmap(oplex_cm, cmap='viridis_r', annot=True, fmt='d', square=True, ax=ax)\n",
    "ax.set_xlabel('Predicted')\n",
    "ax.set_ylabel('True');"
   ]
  },
  {
   "cell_type": "code",
   "execution_count": 35,
   "id": "cabe62ca",
   "metadata": {},
   "outputs": [],
   "source": [
    "oplex_cm = list(oplex_cm.ravel())"
   ]
  },
  {
   "cell_type": "code",
   "execution_count": 36,
   "id": "0838b395",
   "metadata": {},
   "outputs": [
    {
     "data": {
      "text/plain": [
       "[807, 710, 483, 116, 153, 231, 147, 720, 1132]"
      ]
     },
     "execution_count": 36,
     "metadata": {},
     "output_type": "execute_result"
    }
   ],
   "source": [
    "oplex_cm"
   ]
  },
  {
   "cell_type": "markdown",
   "id": "debbf31a",
   "metadata": {},
   "source": [
    "## Negative Label Assessment"
   ]
  },
  {
   "cell_type": "code",
   "execution_count": 37,
   "id": "b240fc03",
   "metadata": {},
   "outputs": [
    {
     "name": "stdout",
     "output_type": "stream",
     "text": [
      "recall: 0.402\n",
      "precission: 0.7715930902111324\n",
      "f1 score: 0.5285996055226825\n"
     ]
    }
   ],
   "source": [
    "tp, tn, fp, fn = 804, 195+199+686+1181, 106+132, 701+495\n",
    "recall = tp / (tp+fn)\n",
    "specifity = tn / (tn+fp)\n",
    "precision = tp/(tp+fp)\n",
    "f1 = (2*tp) / (2*tp + fp + fn)\n",
    "\n",
    "print(\"recall: {}\\nprecission: {}\\nf1 score: {}\".format(recall, precision, f1))"
   ]
  },
  {
   "cell_type": "markdown",
   "id": "bc5421a9",
   "metadata": {},
   "source": [
    "## Positive Label Assessment"
   ]
  },
  {
   "cell_type": "code",
   "execution_count": 38,
   "id": "cd978317",
   "metadata": {},
   "outputs": [
    {
     "name": "stdout",
     "output_type": "stream",
     "text": [
      "recall: 0.5907953976988495\n",
      "precission: 0.6298666666666667\n",
      "f1 score: 0.6097057305110997\n"
     ]
    }
   ],
   "source": [
    "tp, tn, fp, fn = 1181, 804+701+106+195, 495+199, 132+686\n",
    "recall = tp / (tp+fn)\n",
    "specifity = tn / (tn+fp)\n",
    "precision = tp/(tp+fp)\n",
    "f1 = (2*tp) / (2*tp + fp + fn)\n",
    "\n",
    "print(\"recall: {}\\nprecission: {}\\nf1 score: {}\".format(recall, precision, f1))"
   ]
  },
  {
   "cell_type": "code",
   "execution_count": null,
   "id": "1dc59838",
   "metadata": {},
   "outputs": [],
   "source": []
  }
 ],
 "metadata": {
  "kernelspec": {
   "display_name": "Python 3 (ipykernel)",
   "language": "python",
   "name": "python3"
  },
  "language_info": {
   "codemirror_mode": {
    "name": "ipython",
    "version": 3
   },
   "file_extension": ".py",
   "mimetype": "text/x-python",
   "name": "python",
   "nbconvert_exporter": "python",
   "pygments_lexer": "ipython3",
   "version": "3.8.10"
  }
 },
 "nbformat": 4,
 "nbformat_minor": 5
}
