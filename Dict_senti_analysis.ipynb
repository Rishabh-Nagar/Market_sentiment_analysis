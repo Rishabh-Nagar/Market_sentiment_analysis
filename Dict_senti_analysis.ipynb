{
 "cells": [
  {
   "cell_type": "markdown",
   "id": "19c9e693",
   "metadata": {},
   "source": [
    "## Importing the libraries"
   ]
  },
  {
   "cell_type": "code",
   "execution_count": 2,
   "id": "ca9c609a",
   "metadata": {},
   "outputs": [],
   "source": [
    "import pandas as pd\n",
    "import nltk\n",
    "from IPython.display import display\n",
    "pd.set_option('display.max_columns', None)"
   ]
  },
  {
   "cell_type": "markdown",
   "id": "a3909f11",
   "metadata": {},
   "source": [
    "### Step 1: Loading the small_data.csv file created using the dataset_creation.ipynb milestone."
   ]
  },
  {
   "cell_type": "code",
   "execution_count": 3,
   "id": "e40bb00c",
   "metadata": {},
   "outputs": [
    {
     "data": {
      "text/html": [
       "<div>\n",
       "<style scoped>\n",
       "    .dataframe tbody tr th:only-of-type {\n",
       "        vertical-align: middle;\n",
       "    }\n",
       "\n",
       "    .dataframe tbody tr th {\n",
       "        vertical-align: top;\n",
       "    }\n",
       "\n",
       "    .dataframe thead th {\n",
       "        text-align: right;\n",
       "    }\n",
       "</style>\n",
       "<table border=\"1\" class=\"dataframe\">\n",
       "  <thead>\n",
       "    <tr style=\"text-align: right;\">\n",
       "      <th></th>\n",
       "      <th>overall</th>\n",
       "      <th>verified</th>\n",
       "      <th>reviewTime</th>\n",
       "      <th>reviewerID</th>\n",
       "      <th>asin</th>\n",
       "      <th>reviewerName</th>\n",
       "      <th>reviewText</th>\n",
       "      <th>summary</th>\n",
       "      <th>unixReviewTime</th>\n",
       "      <th>vote</th>\n",
       "      <th>style</th>\n",
       "      <th>image</th>\n",
       "    </tr>\n",
       "  </thead>\n",
       "  <tbody>\n",
       "    <tr>\n",
       "      <th>0</th>\n",
       "      <td>1.0</td>\n",
       "      <td>False</td>\n",
       "      <td>11 18, 2015</td>\n",
       "      <td>A2ZBZ74VIW6SDJ</td>\n",
       "      <td>B00W8FYF56</td>\n",
       "      <td>Aaron B.</td>\n",
       "      <td>. . . The ability to destroy a franchise is in...</td>\n",
       "      <td>\"Don't be too proud of this technological terr...</td>\n",
       "      <td>1447804800</td>\n",
       "      <td>75.0</td>\n",
       "      <td>{'Format:': ' Video Game'}</td>\n",
       "      <td>NaN</td>\n",
       "    </tr>\n",
       "    <tr>\n",
       "      <th>1</th>\n",
       "      <td>1.0</td>\n",
       "      <td>True</td>\n",
       "      <td>02 3, 2012</td>\n",
       "      <td>A1AL9R7KUE049Y</td>\n",
       "      <td>B000VRCNLG</td>\n",
       "      <td>mopar</td>\n",
       "      <td>Years ago I had an early version of the micros...</td>\n",
       "      <td>p-51 flys like a brick with a anchor</td>\n",
       "      <td>1328227200</td>\n",
       "      <td>2.0</td>\n",
       "      <td>NaN</td>\n",
       "      <td>NaN</td>\n",
       "    </tr>\n",
       "    <tr>\n",
       "      <th>2</th>\n",
       "      <td>1.0</td>\n",
       "      <td>False</td>\n",
       "      <td>11 23, 2008</td>\n",
       "      <td>AF2HX24P7K1FF</td>\n",
       "      <td>B00166R2RQ</td>\n",
       "      <td>Zen*Yogi*Girl</td>\n",
       "      <td>We got this looking for another game that woul...</td>\n",
       "      <td>Slowwwwww and flawed!!</td>\n",
       "      <td>1227398400</td>\n",
       "      <td>15.0</td>\n",
       "      <td>{'Platform:': ' Nintendo Wii'}</td>\n",
       "      <td>NaN</td>\n",
       "    </tr>\n",
       "    <tr>\n",
       "      <th>3</th>\n",
       "      <td>1.0</td>\n",
       "      <td>False</td>\n",
       "      <td>01 17, 2014</td>\n",
       "      <td>A3J0DO0V4959LM</td>\n",
       "      <td>B001C58T46</td>\n",
       "      <td>Amy_Ro</td>\n",
       "      <td>Bought it, disc didn't work, seller REFUSED to...</td>\n",
       "      <td>Bought it, disc didn't work, seller REFUSED to...</td>\n",
       "      <td>1389916800</td>\n",
       "      <td>NaN</td>\n",
       "      <td>NaN</td>\n",
       "      <td>NaN</td>\n",
       "    </tr>\n",
       "    <tr>\n",
       "      <th>4</th>\n",
       "      <td>1.0</td>\n",
       "      <td>True</td>\n",
       "      <td>06 27, 2009</td>\n",
       "      <td>ACJHQDET85KJ2</td>\n",
       "      <td>B000BC38LA</td>\n",
       "      <td>J. Akins</td>\n",
       "      <td>I have a VOODOO top of the line line rig so th...</td>\n",
       "      <td>BUGS,BUGS EVERY WHERE BUGS</td>\n",
       "      <td>1246060800</td>\n",
       "      <td>NaN</td>\n",
       "      <td>NaN</td>\n",
       "      <td>NaN</td>\n",
       "    </tr>\n",
       "  </tbody>\n",
       "</table>\n",
       "</div>"
      ],
      "text/plain": [
       "   overall  verified   reviewTime      reviewerID        asin   reviewerName  \\\n",
       "0      1.0     False  11 18, 2015  A2ZBZ74VIW6SDJ  B00W8FYF56       Aaron B.   \n",
       "1      1.0      True   02 3, 2012  A1AL9R7KUE049Y  B000VRCNLG          mopar   \n",
       "2      1.0     False  11 23, 2008   AF2HX24P7K1FF  B00166R2RQ  Zen*Yogi*Girl   \n",
       "3      1.0     False  01 17, 2014  A3J0DO0V4959LM  B001C58T46         Amy_Ro   \n",
       "4      1.0      True  06 27, 2009   ACJHQDET85KJ2  B000BC38LA       J. Akins   \n",
       "\n",
       "                                          reviewText  \\\n",
       "0  . . . The ability to destroy a franchise is in...   \n",
       "1  Years ago I had an early version of the micros...   \n",
       "2  We got this looking for another game that woul...   \n",
       "3  Bought it, disc didn't work, seller REFUSED to...   \n",
       "4  I have a VOODOO top of the line line rig so th...   \n",
       "\n",
       "                                             summary  unixReviewTime  vote  \\\n",
       "0  \"Don't be too proud of this technological terr...      1447804800  75.0   \n",
       "1               p-51 flys like a brick with a anchor      1328227200   2.0   \n",
       "2                             Slowwwwww and flawed!!      1227398400  15.0   \n",
       "3  Bought it, disc didn't work, seller REFUSED to...      1389916800   NaN   \n",
       "4                         BUGS,BUGS EVERY WHERE BUGS      1246060800   NaN   \n",
       "\n",
       "                            style image  \n",
       "0      {'Format:': ' Video Game'}   NaN  \n",
       "1                             NaN   NaN  \n",
       "2  {'Platform:': ' Nintendo Wii'}   NaN  \n",
       "3                             NaN   NaN  \n",
       "4                             NaN   NaN  "
      ]
     },
     "execution_count": 3,
     "metadata": {},
     "output_type": "execute_result"
    }
   ],
   "source": [
    "data = pd.read_csv('small_data.csv')\n",
    "data.head()"
   ]
  },
  {
   "cell_type": "code",
   "execution_count": 4,
   "id": "6419a4e6",
   "metadata": {},
   "outputs": [
    {
     "data": {
      "text/plain": [
       "(4500, 12)"
      ]
     },
     "execution_count": 4,
     "metadata": {},
     "output_type": "execute_result"
    }
   ],
   "source": [
    "data.shape"
   ]
  },
  {
   "cell_type": "markdown",
   "id": "55bfadf1",
   "metadata": {},
   "source": [
    "## Text Preprocessing\n",
    "###  Step 2: Tokenizing the sentences and words of the reviews\n",
    "\n",
    "Typs of tokenizers used: \n",
    "\n",
    "    --> Treebank Word Tokenizer\n",
    "    --> Casual tokenizer"
   ]
  },
  {
   "cell_type": "markdown",
   "id": "0e739f52",
   "metadata": {},
   "source": [
    "## Treebank Word Tokenizer"
   ]
  },
  {
   "cell_type": "code",
   "execution_count": 8,
   "id": "873b1cb5",
   "metadata": {},
   "outputs": [],
   "source": [
    "from nltk.tokenize import TreebankWordTokenizer\n",
    "from string import punctuation\n",
    "import string"
   ]
  },
  {
   "cell_type": "code",
   "execution_count": 9,
   "id": "2f13167b",
   "metadata": {},
   "outputs": [],
   "source": [
    "tbwt = TreebankWordTokenizer()"
   ]
  },
  {
   "cell_type": "code",
   "execution_count": 11,
   "id": "35921414",
   "metadata": {},
   "outputs": [],
   "source": [
    "data['lower_review_text'] = data['reviewText'].apply(lambda rev: str(rev).translate(str.maketrans('', '', punctuation)).replace(\"<br />\", \" \").lower())"
   ]
  },
  {
   "cell_type": "code",
   "execution_count": 22,
   "id": "71720071",
   "metadata": {},
   "outputs": [
    {
     "data": {
      "text/html": [
       "<div>\n",
       "<style scoped>\n",
       "    .dataframe tbody tr th:only-of-type {\n",
       "        vertical-align: middle;\n",
       "    }\n",
       "\n",
       "    .dataframe tbody tr th {\n",
       "        vertical-align: top;\n",
       "    }\n",
       "\n",
       "    .dataframe thead th {\n",
       "        text-align: right;\n",
       "    }\n",
       "</style>\n",
       "<table border=\"1\" class=\"dataframe\">\n",
       "  <thead>\n",
       "    <tr style=\"text-align: right;\">\n",
       "      <th></th>\n",
       "      <th>reviewText</th>\n",
       "      <th>lower_review_text</th>\n",
       "    </tr>\n",
       "  </thead>\n",
       "  <tbody>\n",
       "    <tr>\n",
       "      <th>4170</th>\n",
       "      <td>Perfect, Shipped safely, and fast.</td>\n",
       "      <td>perfect shipped safely and fast</td>\n",
       "    </tr>\n",
       "    <tr>\n",
       "      <th>96</th>\n",
       "      <td>The game looks fine, but it doesn't work. I bo...</td>\n",
       "      <td>the game looks fine but it doesnt work i bough...</td>\n",
       "    </tr>\n",
       "  </tbody>\n",
       "</table>\n",
       "</div>"
      ],
      "text/plain": [
       "                                             reviewText  \\\n",
       "4170                 Perfect, Shipped safely, and fast.   \n",
       "96    The game looks fine, but it doesn't work. I bo...   \n",
       "\n",
       "                                      lower_review_text  \n",
       "4170                    perfect shipped safely and fast  \n",
       "96    the game looks fine but it doesnt work i bough...  "
      ]
     },
     "execution_count": 22,
     "metadata": {},
     "output_type": "execute_result"
    }
   ],
   "source": [
    "data[['reviewText', 'lower_review_text']].sample(2)"
   ]
  },
  {
   "cell_type": "code",
   "execution_count": 24,
   "id": "177683fe",
   "metadata": {},
   "outputs": [],
   "source": [
    "data['tbwt_token'] = data['lower_review_text'].apply(lambda rev: tbwt.tokenize(str(rev)))"
   ]
  },
  {
   "cell_type": "code",
   "execution_count": 25,
   "id": "236fc48b",
   "metadata": {},
   "outputs": [],
   "source": [
    "pd.set_option('display.max_colwidth', None)"
   ]
  },
  {
   "cell_type": "code",
   "execution_count": 27,
   "id": "07feb29f",
   "metadata": {},
   "outputs": [
    {
     "data": {
      "text/html": [
       "<div>\n",
       "<style scoped>\n",
       "    .dataframe tbody tr th:only-of-type {\n",
       "        vertical-align: middle;\n",
       "    }\n",
       "\n",
       "    .dataframe tbody tr th {\n",
       "        vertical-align: top;\n",
       "    }\n",
       "\n",
       "    .dataframe thead th {\n",
       "        text-align: right;\n",
       "    }\n",
       "</style>\n",
       "<table border=\"1\" class=\"dataframe\">\n",
       "  <thead>\n",
       "    <tr style=\"text-align: right;\">\n",
       "      <th></th>\n",
       "      <th>reviewText</th>\n",
       "      <th>tbwt_token</th>\n",
       "    </tr>\n",
       "  </thead>\n",
       "  <tbody>\n",
       "    <tr>\n",
       "      <th>2879</th>\n",
       "      <td>Great, fits well but I think it's a little bit expensive.</td>\n",
       "      <td>[great, fits, well, but, i, think, its, a, little, bit, expensive]</td>\n",
       "    </tr>\n",
       "    <tr>\n",
       "      <th>2713</th>\n",
       "      <td>Not sure why the price went up to $60 at all because the experience isn't always stellar and I don't see any improvements worth $10 more per year from their entire base.\\n\\nI do appreciate the free games although most of the time they aren't typically games I would like to play and i still prefer Sony to Microsoft for now. Other than that you're going to need this to play with your friends on playstation so i can especially recommend these when you can find them for $40</td>\n",
       "      <td>[not, sure, why, the, price, went, up, to, 60, at, all, because, the, experience, isnt, always, stellar, and, i, dont, see, any, improvements, worth, 10, more, per, year, from, their, entire, base, i, do, appreciate, the, free, games, although, most, of, the, time, they, arent, typically, games, i, would, like, to, play, and, i, still, prefer, sony, to, microsoft, for, now, other, than, that, youre, going, to, need, this, to, play, with, your, friends, on, playstation, so, i, can, especially, recommend, these, when, you, can, find, them, for, 40]</td>\n",
       "    </tr>\n",
       "    <tr>\n",
       "      <th>1344</th>\n",
       "      <td>My mother hate it......it was in very shape hen I bought it....but now it in five piece on the floor. To be s</td>\n",
       "      <td>[my, mother, hate, itit, was, in, very, shape, hen, i, bought, itbut, now, it, in, five, piece, on, the, floor, to, be, s]</td>\n",
       "    </tr>\n",
       "  </tbody>\n",
       "</table>\n",
       "</div>"
      ],
      "text/plain": [
       "                                                                                                                                                                                                                                                                                                                                                                                                                                                                                      reviewText  \\\n",
       "2879                                                                                                                                                                                                                                                                                                                                                                                                                                   Great, fits well but I think it's a little bit expensive.   \n",
       "2713  Not sure why the price went up to $60 at all because the experience isn't always stellar and I don't see any improvements worth $10 more per year from their entire base.\\n\\nI do appreciate the free games although most of the time they aren't typically games I would like to play and i still prefer Sony to Microsoft for now. Other than that you're going to need this to play with your friends on playstation so i can especially recommend these when you can find them for $40   \n",
       "1344                                                                                                                                                                                                                                                                                                                                                                               My mother hate it......it was in very shape hen I bought it....but now it in five piece on the floor. To be s   \n",
       "\n",
       "                                                                                                                                                                                                                                                                                                                                                                                                                                                                                                                                                                    tbwt_token  \n",
       "2879                                                                                                                                                                                                                                                                                                                                                                                                                                                                                                        [great, fits, well, but, i, think, its, a, little, bit, expensive]  \n",
       "2713  [not, sure, why, the, price, went, up, to, 60, at, all, because, the, experience, isnt, always, stellar, and, i, dont, see, any, improvements, worth, 10, more, per, year, from, their, entire, base, i, do, appreciate, the, free, games, although, most, of, the, time, they, arent, typically, games, i, would, like, to, play, and, i, still, prefer, sony, to, microsoft, for, now, other, than, that, youre, going, to, need, this, to, play, with, your, friends, on, playstation, so, i, can, especially, recommend, these, when, you, can, find, them, for, 40]  \n",
       "1344                                                                                                                                                                                                                                                                                                                                                                                                                                                [my, mother, hate, itit, was, in, very, shape, hen, i, bought, itbut, now, it, in, five, piece, on, the, floor, to, be, s]  "
      ]
     },
     "execution_count": 27,
     "metadata": {},
     "output_type": "execute_result"
    }
   ],
   "source": [
    "data[['reviewText','tbwt_token']].sample(3)"
   ]
  },
  {
   "cell_type": "markdown",
   "id": "bb96c2a5",
   "metadata": {},
   "source": [
    "## Casual tokenizer"
   ]
  },
  {
   "cell_type": "code",
   "execution_count": 28,
   "id": "9ef6ff76",
   "metadata": {},
   "outputs": [],
   "source": [
    "from nltk.tokenize.casual import casual_tokenize"
   ]
  },
  {
   "cell_type": "code",
   "execution_count": 30,
   "id": "e3c745c3",
   "metadata": {},
   "outputs": [],
   "source": [
    "data['casual_tokens'] = data['lower_review_text'].apply(lambda rev: casual_tokenize(str(rev)))"
   ]
  },
  {
   "cell_type": "code",
   "execution_count": 32,
   "id": "5006f1ad",
   "metadata": {},
   "outputs": [
    {
     "data": {
      "text/html": [
       "<div>\n",
       "<style scoped>\n",
       "    .dataframe tbody tr th:only-of-type {\n",
       "        vertical-align: middle;\n",
       "    }\n",
       "\n",
       "    .dataframe tbody tr th {\n",
       "        vertical-align: top;\n",
       "    }\n",
       "\n",
       "    .dataframe thead th {\n",
       "        text-align: right;\n",
       "    }\n",
       "</style>\n",
       "<table border=\"1\" class=\"dataframe\">\n",
       "  <thead>\n",
       "    <tr style=\"text-align: right;\">\n",
       "      <th></th>\n",
       "      <th>reviewText</th>\n",
       "      <th>casual_tokens</th>\n",
       "      <th>tbwt_token</th>\n",
       "    </tr>\n",
       "  </thead>\n",
       "  <tbody>\n",
       "    <tr>\n",
       "      <th>4401</th>\n",
       "      <td>Awesome Starter Pack. The main reason I bought this was because I needed the storage space. I also had to buy a memory card in order to transfer all the content on my 20GB Hard Drive over to my 60GB Hard Drive. In the end it all worked out.</td>\n",
       "      <td>[awesome, starter, pack, the, main, reason, i, bought, this, was, because, i, needed, the, storage, space, i, also, had, to, buy, a, memory, card, in, order, to, transfer, all, the, content, on, my, 20gb, hard, drive, over, to, my, 60gb, hard, drive, in, the, end, it, all, worked, out]</td>\n",
       "      <td>[awesome, starter, pack, the, main, reason, i, bought, this, was, because, i, needed, the, storage, space, i, also, had, to, buy, a, memory, card, in, order, to, transfer, all, the, content, on, my, 20gb, hard, drive, over, to, my, 60gb, hard, drive, in, the, end, it, all, worked, out]</td>\n",
       "    </tr>\n",
       "    <tr>\n",
       "      <th>1115</th>\n",
       "      <td>I should have read more of what this game was about before just ordering it because I was starved for a good JRPG on the Vita. A good JRPG, this is not... The game sucks and the \"story\" is pretty warped. The pervs that made this game should be ashamed. We all know that JRPGs are full of odd Japanese culture, sexy characters and overall outrageous strangeness, but this game exudes a true creep vibe that I cannot get behind. The context keeps me from having any interest in playing it. For those of you who like the game, well... I don't know what that says about you, but I would recommend against buying or supporting this game. My copy is headed to the nearest GameStop or dumpster, whichever comes first. Thanks, but no thanks.</td>\n",
       "      <td>[i, should, have, read, more, of, what, this, game, was, about, before, just, ordering, it, because, i, was, starved, for, a, good, jrpg, on, the, vita, a, good, jrpg, this, is, not, the, game, sucks, and, the, story, is, pretty, warped, the, pervs, that, made, this, game, should, be, ashamed, we, all, know, that, jrpgs, are, full, of, odd, japanese, culture, sexy, characters, and, overall, outrageous, strangeness, but, this, game, exudes, a, true, creep, vibe, that, i, cannot, get, behind, the, context, keeps, me, from, having, any, interest, in, playing, it, for, those, of, you, who, like, the, game, well, ...]</td>\n",
       "      <td>[i, should, have, read, more, of, what, this, game, was, about, before, just, ordering, it, because, i, was, starved, for, a, good, jrpg, on, the, vita, a, good, jrpg, this, is, not, the, game, sucks, and, the, story, is, pretty, warped, the, pervs, that, made, this, game, should, be, ashamed, we, all, know, that, jrpgs, are, full, of, odd, japanese, culture, sexy, characters, and, overall, outrageous, strangeness, but, this, game, exudes, a, true, creep, vibe, that, i, can, not, get, behind, the, context, keeps, me, from, having, any, interest, in, playing, it, for, those, of, you, who, like, the, game, ...]</td>\n",
       "    </tr>\n",
       "    <tr>\n",
       "      <th>2045</th>\n",
       "      <td>It's been how long now? And I still think Lucas Arts Outlaws was the best Western first Person Shooter. Since that time the Western genre has been oft ignored and only recently had an upswing, with games such as Gun, Dead Man's Hand, and Desperadoes I and II. Still, nothing has been truly memorable and the \"Call of Juarez\" is no different.\\n\\nStory\\nThe story line is nothing unusual. An out of luck kid (Billy Candle) gets blamed for something he didn't do, while a rentless Bible thumping Reverend Ray chases him. Meanwhile a sinister (not really) plot (not really) draws the two together time and again.\\n\\nDuring the game players take control of Billy, who is on the run armed only with his abilities to hide, to use silent weapons, like the bow and arrow, climb things, and use a whip in the same style as Indiana Jones. Sorry, no hat included.\\n\\nIn a genuinely unique twist, players also take control of Reverend Ray and chase Billy down. The two perspectives to the same storyline is interesting, but sometimes I felt cheated as I had to go through the same map twice with each character. Ray is fun. No doubt he alone almost makes the game worth buying at full price. He is mean. He is old. He is quick on the draw and during the game you can have a Bible in one hand a sawed off shotgun in the other. Supposedly the use of the Bible stuns enemies, but I found it more useful just to shoot them, then read from the Bible for kicks. Ray however cannot climb things, and I suppose we'll just blame this on his advanced age.\\n\\nGameplay\\nGameplay is fairly standard. Characters can lean to the side (a major plus), run and jump. Shooting is easy enough, though even the rifle is fired from the hip it seems. You never use iron sights, though with some weapons you can zoom in.\\n\\nIn combat both Billy and Ray have a weapon which can slow down time. For Billy this enables you to aim percise shots with the bow, while for Ray you can draw two pistols and theoretically take down six opponents with six head shots. Both are nice features, but almost too nice. Much like FEAR, slowing down time made the game too easy. In fact, there isn't anything difficult at all about the game. Health in the form of whiskey bottles are plentiful as is ammo. Weapons eventually overheat and break, but replacing them is no challenge either.\\n\\nMost the game you find yourself following a prescribed route, and gunning down enemies who at the most seem to show up in groups of four, and usually less. There is some sneaking involved, and a few mountain scaling challenges, but both end up a bit dull. On the plus side, quick draw gun duels are interesting, as is a chase sequence on horseback.\\n\\nGraphics\\nI live in Arizona, so I can tell you that the Call of Juarez looks exactly like what a desert in a movie studio looks like. There are cactus and shrubs and a neat haze effect from the heat. What there isn't? Wind. Most things are static (except for falling leaves, pollen and rain) which is ashame since games like Ghost Recon, which are older, had at least mastered the effect of wind moving shrubbery. Not in this game. Thus players tend to follow the, if it moves shoot it, theory. Not that the game will let you shoot innocents, animals, or dead people; for it places a big RED x over them and says, \"No\". Odd for a rated M game. More on that later.\\n\\nCharacters look good. In fact they look great. So good, that you wonder how they ended up in such bad scenery. It's like when you see your favorite actor in a B movie and ask yourself, \"You doing someone a favor?\"\\n\\nRated M?\\nIt didn't really have to be. The game, for no real reason, has a sexual reference in the beginning. It's a bit akward and nothing else like it occurs throughout the rest of the game. Blood is dark and plentiful on walls when you shoot people, but corpses tend to just get red where they were shot. No smoking bullet holes, or twitching bodies. Language is mildly coarse. Which is fitting given how the game itself is equally mild.\\n\\nOverall\\nThe game had potential and could have been better with a supernatural twist midway through, or if they wanted to stay in the 'real world', if they had the game feel like a Sphagetti Western. Neither occurs. Gameplay is dull, enemies are too easy, graphics range from good to bad and ugly.\\nI bought it full price because I've been yearning for a great Western genre game. I'm still waiting. I reccomend you pick \"Call of Juarez\" up when it is about $20. Reverened Ray and his Bible/sawedoff combo is worth that much.\\n\\nPROS = Reverend Ray. A great character! The graphics used for characters. Chase sequences. Mano y Mano gun duels.\\n\\nCONS = Nothing truly unique about gameplay. A short game, that still tends to be monotonous. Scenery that surely could have been better or more dynamic. Rated M just because.</td>\n",
       "      <td>[its, been, how, long, now, and, i, still, think, lucas, arts, outlaws, was, the, best, western, first, person, shooter, since, that, time, the, western, genre, has, been, oft, ignored, and, only, recently, had, an, upswing, with, games, such, as, gun, dead, mans, hand, and, desperadoes, i, and, ii, still, nothing, has, been, truly, memorable, and, the, call, of, juarez, is, no, different, story, the, story, line, is, nothing, unusual, an, out, of, luck, kid, billy, candle, gets, blamed, for, something, he, didnt, do, while, a, rentless, bible, thumping, reverend, ray, chases, him, meanwhile, a, sinister, not, really, plot, not, really, ...]</td>\n",
       "      <td>[its, been, how, long, now, and, i, still, think, lucas, arts, outlaws, was, the, best, western, first, person, shooter, since, that, time, the, western, genre, has, been, oft, ignored, and, only, recently, had, an, upswing, with, games, such, as, gun, dead, mans, hand, and, desperadoes, i, and, ii, still, nothing, has, been, truly, memorable, and, the, call, of, juarez, is, no, different, story, the, story, line, is, nothing, unusual, an, out, of, luck, kid, billy, candle, gets, blamed, for, something, he, didnt, do, while, a, rentless, bible, thumping, reverend, ray, chases, him, meanwhile, a, sinister, not, really, plot, not, really, ...]</td>\n",
       "    </tr>\n",
       "  </tbody>\n",
       "</table>\n",
       "</div>"
      ],
      "text/plain": [
       "                                                                                                                                                                                                                                                                                                                                                                                                                                                                                                                                                                                                                                                                                                                                                                                                                                                                                                                                                                                                                                                                                                                                                                                                                                                                                                                                                                                                                                                                                                                                                                                                                                                                                                                                                                                                                                                                                                                                                                                                                                                                                                                                                                                                                                                                                                                                                                                                                                                                                                                                                                                                                                                                                                                                                                                                                                                                                                                                                                                                                                                                                                                                                                                                                                                                                                                                                                                                                                                                                                                                                                                                                                                                                                                                                                                                                                                                                                                                                                                                                                                                                                                                                                                                                                                                                                                                                                                                                                                                                                                                                                                                                                                                                                                                                                                                                                                                                                                                                                                                                                reviewText  \\\n",
       "4401                                                                                                                                                                                                                                                                                                                                                                                                                                                                                                                                                                                                                                                                                                                                                                                                                                                                                                                                                                                                                                                                                                                                                                                                                                                                                                                                                                                                                                                                                                                                                                                                                                                                                                                                                                                                                                                                                                                                                                                                                                                                                                                                                                                                                                                                                                                                                                                                                                                                                                                                                                                                                                                                                                                                                                                                                                                                                                                                                                                                                                                                                                                                                                                                                                                                                                                                                                                                                                                                                                                                                                                                                                                                                                                                                                                                                                                                                                                                                                                                                                                                                                                                                                                                                                                                                                                                                                                                                                                                                                                                                                                                                                                                                                                                                                                      Awesome Starter Pack. The main reason I bought this was because I needed the storage space. I also had to buy a memory card in order to transfer all the content on my 20GB Hard Drive over to my 60GB Hard Drive. In the end it all worked out.   \n",
       "1115                                                                                                                                                                                                                                                                                                                                                                                                                                                                                                                                                                                                                                                                                                                                                                                                                                                                                                                                                                                                                                                                                                                                                                                                                                                                                                                                                                                                                                                                                                                                                                                                                                                                                                                                                                                                                                                                                                                                                                                                                                                                                                                                                                                                                                                                                                                                                                                                                                                                                                                                                                                                                                                                                                                                                                                                                                                                                                                                                                                                                                                                                                                                                                                                                                                                                                                                                                                                                                                                                                                                                                                                                                                                                                                                                                                                                                                                                                                                                                                                                                                                                                                                                                                                                                                                         I should have read more of what this game was about before just ordering it because I was starved for a good JRPG on the Vita. A good JRPG, this is not... The game sucks and the \"story\" is pretty warped. The pervs that made this game should be ashamed. We all know that JRPGs are full of odd Japanese culture, sexy characters and overall outrageous strangeness, but this game exudes a true creep vibe that I cannot get behind. The context keeps me from having any interest in playing it. For those of you who like the game, well... I don't know what that says about you, but I would recommend against buying or supporting this game. My copy is headed to the nearest GameStop or dumpster, whichever comes first. Thanks, but no thanks.   \n",
       "2045  It's been how long now? And I still think Lucas Arts Outlaws was the best Western first Person Shooter. Since that time the Western genre has been oft ignored and only recently had an upswing, with games such as Gun, Dead Man's Hand, and Desperadoes I and II. Still, nothing has been truly memorable and the \"Call of Juarez\" is no different.\\n\\nStory\\nThe story line is nothing unusual. An out of luck kid (Billy Candle) gets blamed for something he didn't do, while a rentless Bible thumping Reverend Ray chases him. Meanwhile a sinister (not really) plot (not really) draws the two together time and again.\\n\\nDuring the game players take control of Billy, who is on the run armed only with his abilities to hide, to use silent weapons, like the bow and arrow, climb things, and use a whip in the same style as Indiana Jones. Sorry, no hat included.\\n\\nIn a genuinely unique twist, players also take control of Reverend Ray and chase Billy down. The two perspectives to the same storyline is interesting, but sometimes I felt cheated as I had to go through the same map twice with each character. Ray is fun. No doubt he alone almost makes the game worth buying at full price. He is mean. He is old. He is quick on the draw and during the game you can have a Bible in one hand a sawed off shotgun in the other. Supposedly the use of the Bible stuns enemies, but I found it more useful just to shoot them, then read from the Bible for kicks. Ray however cannot climb things, and I suppose we'll just blame this on his advanced age.\\n\\nGameplay\\nGameplay is fairly standard. Characters can lean to the side (a major plus), run and jump. Shooting is easy enough, though even the rifle is fired from the hip it seems. You never use iron sights, though with some weapons you can zoom in.\\n\\nIn combat both Billy and Ray have a weapon which can slow down time. For Billy this enables you to aim percise shots with the bow, while for Ray you can draw two pistols and theoretically take down six opponents with six head shots. Both are nice features, but almost too nice. Much like FEAR, slowing down time made the game too easy. In fact, there isn't anything difficult at all about the game. Health in the form of whiskey bottles are plentiful as is ammo. Weapons eventually overheat and break, but replacing them is no challenge either.\\n\\nMost the game you find yourself following a prescribed route, and gunning down enemies who at the most seem to show up in groups of four, and usually less. There is some sneaking involved, and a few mountain scaling challenges, but both end up a bit dull. On the plus side, quick draw gun duels are interesting, as is a chase sequence on horseback.\\n\\nGraphics\\nI live in Arizona, so I can tell you that the Call of Juarez looks exactly like what a desert in a movie studio looks like. There are cactus and shrubs and a neat haze effect from the heat. What there isn't? Wind. Most things are static (except for falling leaves, pollen and rain) which is ashame since games like Ghost Recon, which are older, had at least mastered the effect of wind moving shrubbery. Not in this game. Thus players tend to follow the, if it moves shoot it, theory. Not that the game will let you shoot innocents, animals, or dead people; for it places a big RED x over them and says, \"No\". Odd for a rated M game. More on that later.\\n\\nCharacters look good. In fact they look great. So good, that you wonder how they ended up in such bad scenery. It's like when you see your favorite actor in a B movie and ask yourself, \"You doing someone a favor?\"\\n\\nRated M?\\nIt didn't really have to be. The game, for no real reason, has a sexual reference in the beginning. It's a bit akward and nothing else like it occurs throughout the rest of the game. Blood is dark and plentiful on walls when you shoot people, but corpses tend to just get red where they were shot. No smoking bullet holes, or twitching bodies. Language is mildly coarse. Which is fitting given how the game itself is equally mild.\\n\\nOverall\\nThe game had potential and could have been better with a supernatural twist midway through, or if they wanted to stay in the 'real world', if they had the game feel like a Sphagetti Western. Neither occurs. Gameplay is dull, enemies are too easy, graphics range from good to bad and ugly.\\nI bought it full price because I've been yearning for a great Western genre game. I'm still waiting. I reccomend you pick \"Call of Juarez\" up when it is about $20. Reverened Ray and his Bible/sawedoff combo is worth that much.\\n\\nPROS = Reverend Ray. A great character! The graphics used for characters. Chase sequences. Mano y Mano gun duels.\\n\\nCONS = Nothing truly unique about gameplay. A short game, that still tends to be monotonous. Scenery that surely could have been better or more dynamic. Rated M just because.   \n",
       "\n",
       "                                                                                                                                                                                                                                                                                                                                                                                                                                                                                                                                                                                                                                                                  casual_tokens  \\\n",
       "4401                                                                                                                                                                                                                                                                                                                                                                             [awesome, starter, pack, the, main, reason, i, bought, this, was, because, i, needed, the, storage, space, i, also, had, to, buy, a, memory, card, in, order, to, transfer, all, the, content, on, my, 20gb, hard, drive, over, to, my, 60gb, hard, drive, in, the, end, it, all, worked, out]   \n",
       "1115                               [i, should, have, read, more, of, what, this, game, was, about, before, just, ordering, it, because, i, was, starved, for, a, good, jrpg, on, the, vita, a, good, jrpg, this, is, not, the, game, sucks, and, the, story, is, pretty, warped, the, pervs, that, made, this, game, should, be, ashamed, we, all, know, that, jrpgs, are, full, of, odd, japanese, culture, sexy, characters, and, overall, outrageous, strangeness, but, this, game, exudes, a, true, creep, vibe, that, i, cannot, get, behind, the, context, keeps, me, from, having, any, interest, in, playing, it, for, those, of, you, who, like, the, game, well, ...]   \n",
       "2045  [its, been, how, long, now, and, i, still, think, lucas, arts, outlaws, was, the, best, western, first, person, shooter, since, that, time, the, western, genre, has, been, oft, ignored, and, only, recently, had, an, upswing, with, games, such, as, gun, dead, mans, hand, and, desperadoes, i, and, ii, still, nothing, has, been, truly, memorable, and, the, call, of, juarez, is, no, different, story, the, story, line, is, nothing, unusual, an, out, of, luck, kid, billy, candle, gets, blamed, for, something, he, didnt, do, while, a, rentless, bible, thumping, reverend, ray, chases, him, meanwhile, a, sinister, not, really, plot, not, really, ...]   \n",
       "\n",
       "                                                                                                                                                                                                                                                                                                                                                                                                                                                                                                                                                                                                                                                                     tbwt_token  \n",
       "4401                                                                                                                                                                                                                                                                                                                                                                             [awesome, starter, pack, the, main, reason, i, bought, this, was, because, i, needed, the, storage, space, i, also, had, to, buy, a, memory, card, in, order, to, transfer, all, the, content, on, my, 20gb, hard, drive, over, to, my, 60gb, hard, drive, in, the, end, it, all, worked, out]  \n",
       "1115                                   [i, should, have, read, more, of, what, this, game, was, about, before, just, ordering, it, because, i, was, starved, for, a, good, jrpg, on, the, vita, a, good, jrpg, this, is, not, the, game, sucks, and, the, story, is, pretty, warped, the, pervs, that, made, this, game, should, be, ashamed, we, all, know, that, jrpgs, are, full, of, odd, japanese, culture, sexy, characters, and, overall, outrageous, strangeness, but, this, game, exudes, a, true, creep, vibe, that, i, can, not, get, behind, the, context, keeps, me, from, having, any, interest, in, playing, it, for, those, of, you, who, like, the, game, ...]  \n",
       "2045  [its, been, how, long, now, and, i, still, think, lucas, arts, outlaws, was, the, best, western, first, person, shooter, since, that, time, the, western, genre, has, been, oft, ignored, and, only, recently, had, an, upswing, with, games, such, as, gun, dead, mans, hand, and, desperadoes, i, and, ii, still, nothing, has, been, truly, memorable, and, the, call, of, juarez, is, no, different, story, the, story, line, is, nothing, unusual, an, out, of, luck, kid, billy, candle, gets, blamed, for, something, he, didnt, do, while, a, rentless, bible, thumping, reverend, ray, chases, him, meanwhile, a, sinister, not, really, plot, not, really, ...]  "
      ]
     },
     "execution_count": 32,
     "metadata": {},
     "output_type": "execute_result"
    }
   ],
   "source": [
    "data[['reviewText','casual_tokens','tbwt_token']].sample(3)"
   ]
  },
  {
   "cell_type": "markdown",
   "id": "bd94e741",
   "metadata": {},
   "source": [
    "Since Removing Stopwords is not good for sentiment analysis hence we will not perform this step"
   ]
  },
  {
   "cell_type": "markdown",
   "id": "0b482905",
   "metadata": {},
   "source": [
    "## Stemming"
   ]
  },
  {
   "cell_type": "code",
   "execution_count": 33,
   "id": "0aca4dc7",
   "metadata": {},
   "outputs": [
    {
     "data": {
      "text/html": [
       "<div>\n",
       "<style scoped>\n",
       "    .dataframe tbody tr th:only-of-type {\n",
       "        vertical-align: middle;\n",
       "    }\n",
       "\n",
       "    .dataframe tbody tr th {\n",
       "        vertical-align: top;\n",
       "    }\n",
       "\n",
       "    .dataframe thead th {\n",
       "        text-align: right;\n",
       "    }\n",
       "</style>\n",
       "<table border=\"1\" class=\"dataframe\">\n",
       "  <thead>\n",
       "    <tr style=\"text-align: right;\">\n",
       "      <th></th>\n",
       "      <th>tbwt_token</th>\n",
       "      <th>tokens_stemmed</th>\n",
       "    </tr>\n",
       "  </thead>\n",
       "  <tbody>\n",
       "    <tr>\n",
       "      <th>441</th>\n",
       "      <td>[why, would, you, want, to, pay, 28, bucks, for, something, worth, 20, its, just, idiotic, this, ripoff, should, be, out, of, amazon, better, get, on, ebay]</td>\n",
       "      <td>[whi, would, you, want, to, pay, 28, buck, for, someth, worth, 20, it, just, idiot, thi, ripoff, should, be, out, of, amazon, better, get, on, ebay]</td>\n",
       "    </tr>\n",
       "    <tr>\n",
       "      <th>1721</th>\n",
       "      <td>[i, know, i, should, have, listened, to, other, reviews, saying, this, game, had, awful, controls, and, lot, of, repetition, but, what, can, i, say, who, doesnt, love, a, sexy, woman, as, a, main, character, spoiler, alert, there, are, times, where, you, are, positioned, to, either, snipe, with, a, bow, and, arrow, or, defend, against, an, army, with, a, cannon, dont, get, me, wrong, that, sounds, awesome, but, the, controls, are, way, too, impractical, i, am, not, complaining, that, the, game, is, hard, by, any, means, just, the, controls, are, really, sloppy, and, do, not, enjoy, a, game, where, the, player, ...]</td>\n",
       "      <td>[i, know, i, should, have, listen, to, other, review, say, thi, game, had, aw, control, and, lot, of, repetit, but, what, can, i, say, who, doesnt, love, a, sexi, woman, as, a, main, charact, spoiler, alert, there, are, time, where, you, are, posit, to, either, snipe, with, a, bow, and, arrow, or, defend, against, an, armi, with, a, cannon, dont, get, me, wrong, that, sound, awesom, but, the, control, are, way, too, impract, i, am, not, complain, that, the, game, is, hard, by, ani, mean, just, the, control, are, realli, sloppi, and, do, not, enjoy, a, game, where, the, player, ...]</td>\n",
       "    </tr>\n",
       "    <tr>\n",
       "      <th>1116</th>\n",
       "      <td>[this, has, to, be, one, of, the, alltime, most, over, hyped, games, ever, it, is, an, extremely, boring, game, where, everything, seems, pretty, pointless, this, coupled, with, dodgy, graphics, makes, it, a, game, you, should, certainly, steer, clear, of, save, your, money, for, something, worthwhile, hopefully, there, may, be, some, great, games, just, around, the, corner, this, certainly, isnt, one, the, initial, cut, scene, of, the, game, looked, quite, promising, graphics, didnt, look, too, bad, then, the, game, started, and, it, was, all, downhill, from, that, point, you, start, off, with, a, sledge, hammer, and, some, charges, with, instructions, to, ...]</td>\n",
       "      <td>[thi, ha, to, be, one, of, the, alltim, most, over, hype, game, ever, it, is, an, extrem, bore, game, where, everyth, seem, pretti, pointless, thi, coupl, with, dodgi, graphic, make, it, a, game, you, should, certainli, steer, clear, of, save, your, money, for, someth, worthwhil, hope, there, may, be, some, great, game, just, around, the, corner, thi, certainli, isnt, one, the, initi, cut, scene, of, the, game, look, quit, promis, graphic, didnt, look, too, bad, then, the, game, start, and, it, wa, all, downhil, from, that, point, you, start, off, with, a, sledg, hammer, and, some, charg, with, instruct, to, ...]</td>\n",
       "    </tr>\n",
       "  </tbody>\n",
       "</table>\n",
       "</div>"
      ],
      "text/plain": [
       "                                                                                                                                                                                                                                                                                                                                                                                                                                                                                                                                                                                                                                                                                          tbwt_token  \\\n",
       "441                                                                                                                                                                                                                                                                                                                                                                                                                                                                                                                                     [why, would, you, want, to, pay, 28, bucks, for, something, worth, 20, its, just, idiotic, this, ripoff, should, be, out, of, amazon, better, get, on, ebay]   \n",
       "1721                                                  [i, know, i, should, have, listened, to, other, reviews, saying, this, game, had, awful, controls, and, lot, of, repetition, but, what, can, i, say, who, doesnt, love, a, sexy, woman, as, a, main, character, spoiler, alert, there, are, times, where, you, are, positioned, to, either, snipe, with, a, bow, and, arrow, or, defend, against, an, army, with, a, cannon, dont, get, me, wrong, that, sounds, awesome, but, the, controls, are, way, too, impractical, i, am, not, complaining, that, the, game, is, hard, by, any, means, just, the, controls, are, really, sloppy, and, do, not, enjoy, a, game, where, the, player, ...]   \n",
       "1116  [this, has, to, be, one, of, the, alltime, most, over, hyped, games, ever, it, is, an, extremely, boring, game, where, everything, seems, pretty, pointless, this, coupled, with, dodgy, graphics, makes, it, a, game, you, should, certainly, steer, clear, of, save, your, money, for, something, worthwhile, hopefully, there, may, be, some, great, games, just, around, the, corner, this, certainly, isnt, one, the, initial, cut, scene, of, the, game, looked, quite, promising, graphics, didnt, look, too, bad, then, the, game, started, and, it, was, all, downhill, from, that, point, you, start, off, with, a, sledge, hammer, and, some, charges, with, instructions, to, ...]   \n",
       "\n",
       "                                                                                                                                                                                                                                                                                                                                                                                                                                                                                                                                                                                                                                    tokens_stemmed  \n",
       "441                                                                                                                                                                                                                                                                                                                                                                                                                                                                                           [whi, would, you, want, to, pay, 28, buck, for, someth, worth, 20, it, just, idiot, thi, ripoff, should, be, out, of, amazon, better, get, on, ebay]  \n",
       "1721                                  [i, know, i, should, have, listen, to, other, review, say, thi, game, had, aw, control, and, lot, of, repetit, but, what, can, i, say, who, doesnt, love, a, sexi, woman, as, a, main, charact, spoiler, alert, there, are, time, where, you, are, posit, to, either, snipe, with, a, bow, and, arrow, or, defend, against, an, armi, with, a, cannon, dont, get, me, wrong, that, sound, awesom, but, the, control, are, way, too, impract, i, am, not, complain, that, the, game, is, hard, by, ani, mean, just, the, control, are, realli, sloppi, and, do, not, enjoy, a, game, where, the, player, ...]  \n",
       "1116  [thi, ha, to, be, one, of, the, alltim, most, over, hype, game, ever, it, is, an, extrem, bore, game, where, everyth, seem, pretti, pointless, thi, coupl, with, dodgi, graphic, make, it, a, game, you, should, certainli, steer, clear, of, save, your, money, for, someth, worthwhil, hope, there, may, be, some, great, game, just, around, the, corner, thi, certainli, isnt, one, the, initi, cut, scene, of, the, game, look, quit, promis, graphic, didnt, look, too, bad, then, the, game, start, and, it, wa, all, downhil, from, that, point, you, start, off, with, a, sledg, hammer, and, some, charg, with, instruct, to, ...]  "
      ]
     },
     "execution_count": 33,
     "metadata": {},
     "output_type": "execute_result"
    }
   ],
   "source": [
    "from nltk.stem.porter import PorterStemmer\n",
    "stemmer = PorterStemmer()\n",
    "data['tokens_stemmed'] = data['tbwt_token'].apply(lambda words: [stemmer.stem(w) for w in words])\n",
    "data[['tbwt_token','tokens_stemmed']].sample(3)"
   ]
  },
  {
   "cell_type": "markdown",
   "id": "09cd1d0d",
   "metadata": {},
   "source": [
    "## Lemmatization"
   ]
  },
  {
   "cell_type": "code",
   "execution_count": 34,
   "id": "38193a9a",
   "metadata": {},
   "outputs": [],
   "source": [
    "from nltk.stem import WordNetLemmatizer\n",
    "from nltk.corpus import wordnet as wn\n",
    "from nltk.corpus import sentiwordnet as swn\n",
    "from nltk import sent_tokenize, word_tokenize, pos_tag"
   ]
  },
  {
   "cell_type": "code",
   "execution_count": 35,
   "id": "20526a9c",
   "metadata": {},
   "outputs": [],
   "source": [
    "def penn_to_wn(tag):\n",
    "    \"\"\"\n",
    "        Convert between the PennTreebank tags to simple Wordnet tags\n",
    "    \"\"\"\n",
    "    if tag.startswith('J'):\n",
    "        return wn.ADJ\n",
    "    elif tag.startswith('N'):\n",
    "        return wn.NOUN\n",
    "    elif tag.startswith('R'):\n",
    "        return wn.ADV\n",
    "    elif tag.startswith('V'):\n",
    "        return wn.VERB\n",
    "    return None"
   ]
  },
  {
   "cell_type": "code",
   "execution_count": 36,
   "id": "822fb4ae",
   "metadata": {},
   "outputs": [],
   "source": [
    "lemmatizer = WordNetLemmatizer()\n",
    "def get_lemas(tokens):\n",
    "    lemmas = []\n",
    "    for token in tokens:\n",
    "        pos = penn_to_wn(pos_tag([token])[0][1])\n",
    "        if pos:\n",
    "            lemma = lemmatizer.lemmatize(token, pos)\n",
    "            if lemma:\n",
    "                lemmas.append(lemma)\n",
    "    return lemmas"
   ]
  },
  {
   "cell_type": "code",
   "execution_count": 39,
   "id": "97481d26",
   "metadata": {},
   "outputs": [],
   "source": [
    "data['lemmatized'] = data['tbwt_token'].apply(lambda tokens: get_lemas(tokens))"
   ]
  },
  {
   "cell_type": "code",
   "execution_count": 40,
   "id": "12e4e195",
   "metadata": {},
   "outputs": [
    {
     "data": {
      "text/html": [
       "<div>\n",
       "<style scoped>\n",
       "    .dataframe tbody tr th:only-of-type {\n",
       "        vertical-align: middle;\n",
       "    }\n",
       "\n",
       "    .dataframe tbody tr th {\n",
       "        vertical-align: top;\n",
       "    }\n",
       "\n",
       "    .dataframe thead th {\n",
       "        text-align: right;\n",
       "    }\n",
       "</style>\n",
       "<table border=\"1\" class=\"dataframe\">\n",
       "  <thead>\n",
       "    <tr style=\"text-align: right;\">\n",
       "      <th></th>\n",
       "      <th>reviewText</th>\n",
       "      <th>tokens_stemmed</th>\n",
       "      <th>lemmatized</th>\n",
       "    </tr>\n",
       "  </thead>\n",
       "  <tbody>\n",
       "    <tr>\n",
       "      <th>933</th>\n",
       "      <td>Wii bowling from the original Wii Sports (included with console) is much better game play.  Better graphics are not enough to overcome weak game-play.</td>\n",
       "      <td>[wii, bowl, from, the, origin, wii, sport, includ, with, consol, is, much, better, game, play, better, graphic, are, not, enough, to, overcom, weak, gameplay]</td>\n",
       "      <td>[wii, bowling, original, wii, sport, include, console, be, much, well, game, play, well, graphic, be, not, enough, overcome, weak, gameplay]</td>\n",
       "    </tr>\n",
       "    <tr>\n",
       "      <th>3905</th>\n",
       "      <td>Comfortable, light and with a battery so powerful that recharging it will be a rare occation.</td>\n",
       "      <td>[comfort, light, and, with, a, batteri, so, power, that, recharg, it, will, be, a, rare, occat]</td>\n",
       "      <td>[comfortable, light, battery, so, powerful, recharge, be, rare, occation]</td>\n",
       "    </tr>\n",
       "  </tbody>\n",
       "</table>\n",
       "</div>"
      ],
      "text/plain": [
       "                                                                                                                                                  reviewText  \\\n",
       "933   Wii bowling from the original Wii Sports (included with console) is much better game play.  Better graphics are not enough to overcome weak game-play.   \n",
       "3905                                                           Comfortable, light and with a battery so powerful that recharging it will be a rare occation.   \n",
       "\n",
       "                                                                                                                                                      tokens_stemmed  \\\n",
       "933   [wii, bowl, from, the, origin, wii, sport, includ, with, consol, is, much, better, game, play, better, graphic, are, not, enough, to, overcom, weak, gameplay]   \n",
       "3905                                                                 [comfort, light, and, with, a, batteri, so, power, that, recharg, it, will, be, a, rare, occat]   \n",
       "\n",
       "                                                                                                                                        lemmatized  \n",
       "933   [wii, bowling, original, wii, sport, include, console, be, much, well, game, play, well, graphic, be, not, enough, overcome, weak, gameplay]  \n",
       "3905                                                                     [comfortable, light, battery, so, powerful, recharge, be, rare, occation]  "
      ]
     },
     "execution_count": 40,
     "metadata": {},
     "output_type": "execute_result"
    }
   ],
   "source": [
    "data[['reviewText', 'tokens_stemmed', 'lemmatized']].sample(2)"
   ]
  },
  {
   "cell_type": "markdown",
   "id": "4598c8c6",
   "metadata": {},
   "source": [
    "## Sentiment Predictor Baseline Model"
   ]
  },
  {
   "cell_type": "code",
   "execution_count": 41,
   "id": "cb588c8f",
   "metadata": {},
   "outputs": [],
   "source": [
    "def get_sentiment_score(tokens):\n",
    "    score = 0\n",
    "    tags = pos_tag(tokens)\n",
    "    for word, tag in tags:\n",
    "        wn_tag = penn_to_wn(tag)\n",
    "        if not wn_tag:\n",
    "            continue\n",
    "        synsets = wn.synsets(word, pos=wn_tag)\n",
    "        if not synsets:\n",
    "            continue\n",
    "        \n",
    "        #most common set:\n",
    "        synset = synsets[0]\n",
    "        swn_synset = swn.senti_synset(synset.name())\n",
    "        \n",
    "        score += (swn_synset.pos_score() - swn_synset.neg_score())\n",
    "        \n",
    "    return score"
   ]
  },
  {
   "cell_type": "code",
   "execution_count": 44,
   "id": "85a40d63",
   "metadata": {},
   "outputs": [
    {
     "data": {
      "text/plain": [
       "0.625"
      ]
     },
     "execution_count": 44,
     "metadata": {},
     "output_type": "execute_result"
    }
   ],
   "source": [
    "## test\n",
    "swn.senti_synset(wn.synsets(\"perfect\", wn.ADJ)[0].name()).pos_score()"
   ]
  },
  {
   "cell_type": "code",
   "execution_count": 45,
   "id": "952d0b36",
   "metadata": {
    "scrolled": false
   },
   "outputs": [
    {
     "data": {
      "text/html": [
       "<div>\n",
       "<style scoped>\n",
       "    .dataframe tbody tr th:only-of-type {\n",
       "        vertical-align: middle;\n",
       "    }\n",
       "\n",
       "    .dataframe tbody tr th {\n",
       "        vertical-align: top;\n",
       "    }\n",
       "\n",
       "    .dataframe thead th {\n",
       "        text-align: right;\n",
       "    }\n",
       "</style>\n",
       "<table border=\"1\" class=\"dataframe\">\n",
       "  <thead>\n",
       "    <tr style=\"text-align: right;\">\n",
       "      <th></th>\n",
       "      <th>reviewText</th>\n",
       "      <th>lemmatized</th>\n",
       "      <th>sentiment_score</th>\n",
       "    </tr>\n",
       "  </thead>\n",
       "  <tbody>\n",
       "    <tr>\n",
       "      <th>1659</th>\n",
       "      <td>The extra things included with these screen protectors are great but the actual screen protectors are horrible. The adhesive on these protectors are only on the four corners and they add to the thickness of the protector only in those areas. So when you place them, even if done perfectly will have at least four huge air bubbles on each corner of the screen. But if you can live with air bubbles on the screen you it does protect from scratches. I don't recommend these screen protectors.</td>\n",
       "      <td>[extra, thing, include, screen, protector, be, great, actual, screen, protector, be, horrible, adhesive, protector, be, only, corner, add, thickness, protector, only, area, so, place, even, do, perfectly, have, least, huge, air, bubble, corner, screen, live, air, bubble, screen, do, protect, scratch, i, dont, recommend, screen, protector]</td>\n",
       "      <td>-1.875</td>\n",
       "    </tr>\n",
       "    <tr>\n",
       "      <th>4041</th>\n",
       "      <td>great</td>\n",
       "      <td>[great]</td>\n",
       "      <td>0.000</td>\n",
       "    </tr>\n",
       "    <tr>\n",
       "      <th>1973</th>\n",
       "      <td>I probably should have read more about this game before I bought it. Its like Grand Theft Auto of the West. I am not a fan of Grand Theft Auto type games.  Wouldn't recommend to those who share this opinion.</td>\n",
       "      <td>[i, probably, have, read, more, game, i, bought, grand, theft, auto, west, i, be, not, fan, grand, theft, auto, type, game, wouldnt, recommend, share, opinion]</td>\n",
       "      <td>-0.500</td>\n",
       "    </tr>\n",
       "    <tr>\n",
       "      <th>1326</th>\n",
       "      <td>Tiger Woods All Play for the Wii is a major disappointment! As many others have mentioned, the putting is simply AWFUL! It's unplayable in Career Mode. The short game, chips, bunkers, etc. are also terrible. Teeing off, and longer iron shots are great. The scenery is great. This game could be, and should be, great- but it's not. The Wii should be perfect for a golf game. Overall, I've been disappointed in the Wii as a whole. The best game so far is Wii Sports that comes with the console. That's pretty sad.\\nBack to PC gaming for me.</td>\n",
       "      <td>[tiger, wood, play, wii, be, major, disappointment, many, others, have, mention, put, be, simply, awful, unplayable, career, mode, short, game, chip, bunker, etc, be, also, terrible, tee, longer, iron, shot, be, great, scenery, be, great, game, be, be, great, not, wii, be, perfect, golf, game, overall, ive, be, disappointed, wii, whole, best, game, so, far, be, wii, sport, come, console, thats, pretty, sad, back, pc, game]</td>\n",
       "      <td>-0.875</td>\n",
       "    </tr>\n",
       "    <tr>\n",
       "      <th>1428</th>\n",
       "      <td>I preordered these to replace my X41's.  The release was pushed back several months but they finally arrived.\\n\\nMy X41's have one serious flaw - they pop every time a wireless device accesses WiFi and can interfere with access speed.  This new set fixes that one problem but fails to deliver the same quality sound and construction.\\n\\nNOT PAIRED - INSTRUCTIONS ARE WRONG\\nOut of the box the headset was NOT PAIRED with the transmitter.  The instructions to do this procedure ARE WRONG.  I  thought my set was broken!  Follow the first part of the pairing steps but on the transmitter, only hold the pair button until it starts flashing, then release and wait.  It is horrible that the instructions provided are wrong.  I found the solution in a review on another site.\\n\\nBUZZ - ANNOYING\\nThere is no more pop or hiss like in the older models.  This headset has clean, pure sound - except for the buzz.  The buzz was predominately in the right side and was unaffected by cable or input combinations.  Like the other reviewer on Amazon noted - the frequency and volume varies which makes it hard to ignore.\\n\\nSOUND QUALITY - POOR\\nIf you have X41's you will be disappointed in the sound quality of Turtle Beach's newer headsets (see my other reviews).  I'm not sure if they are using lower quality components but the new models sound like you have your finger in your ears!  Even with the bass boost on, the bass doesn't come close to the X41's.\\nThis headset also has a harsh compressor or limiter that keeps the volume at a constant level.  It might seem like a good thing but it starts to get weird when your gun is quieter than the sound of boots on the pavement around you.  Unlike the higher models, there is no way to defeat this.  This is not an issue with the X41's\\n\\nBUILD QUALITY - CHEAP\\nYou paid how much for these?  They feel like a product that costs $20.  There is a noticeable difference in build quality and feel versus the older X41's.\\n\\nSUMMARY\\nStay away!</td>\n",
       "      <td>[i, preordered, replace, x41s, release, be, push, back, several, month, finally, arrive, x41s, have, serious, flaw, pop, time, wireless, device, access, wifi, interfere, access, speed, new, set, fix, problem, fails, deliver, same, quality, sound, construction, not, pair, instruction, be, wrong, box, headset, be, not, pair, transmitter, instruction, do, procedure, be, wrong, i, thought, set, be, broken, follow, first, part, pair, step, transmitter, only, hold, pair, button, start, flash, then, release, wait, be, horrible, instruction, provide, be, wrong, i, found, solution, review, site, buzz, annoy, there, be, more, pop, hiss, old, model, headset, have, clean, pure, sound, buzz, buzz, be, predominately, ...]</td>\n",
       "      <td>-1.750</td>\n",
       "    </tr>\n",
       "  </tbody>\n",
       "</table>\n",
       "</div>"
      ],
      "text/plain": [
       "                                                                                                                                                                                                                                                                                                                                                                                                                                                                                                                                                                                                                                                                                                                                                                                                                                                                                                                                                                                                                                                                                                                                                                                                                                                                                                                                                                                                                                                                                                                                                                                                                                                                                                                                                                                                                                                                                                                                                                                                                                                        reviewText  \\\n",
       "1659                                                                                                                                                                                                                                                                                                                                                                                                                                                                                                                                                                                                                                                                                                                                                                                                                                                                                                                                                                                                                                                                                                                                                                                                                                                                                                                                                                                                                                                                                                                                                     The extra things included with these screen protectors are great but the actual screen protectors are horrible. The adhesive on these protectors are only on the four corners and they add to the thickness of the protector only in those areas. So when you place them, even if done perfectly will have at least four huge air bubbles on each corner of the screen. But if you can live with air bubbles on the screen you it does protect from scratches. I don't recommend these screen protectors.   \n",
       "4041                                                                                                                                                                                                                                                                                                                                                                                                                                                                                                                                                                                                                                                                                                                                                                                                                                                                                                                                                                                                                                                                                                                                                                                                                                                                                                                                                                                                                                                                                                                                                                                                                                                                                                                                                                                                                                                                                                                                                                                                                                                         great   \n",
       "1973                                                                                                                                                                                                                                                                                                                                                                                                                                                                                                                                                                                                                                                                                                                                                                                                                                                                                                                                                                                                                                                                                                                                                                                                                                                                                                                                                                                                                                                                                                                                                                                                                                                                                                                                                                                                                                               I probably should have read more about this game before I bought it. Its like Grand Theft Auto of the West. I am not a fan of Grand Theft Auto type games.  Wouldn't recommend to those who share this opinion.   \n",
       "1326                                                                                                                                                                                                                                                                                                                                                                                                                                                                                                                                                                                                                                                                                                                                                                                                                                                                                                                                                                                                                                                                                                                                                                                                                                                                                                                                                                                                                                                                                                    Tiger Woods All Play for the Wii is a major disappointment! As many others have mentioned, the putting is simply AWFUL! It's unplayable in Career Mode. The short game, chips, bunkers, etc. are also terrible. Teeing off, and longer iron shots are great. The scenery is great. This game could be, and should be, great- but it's not. The Wii should be perfect for a golf game. Overall, I've been disappointed in the Wii as a whole. The best game so far is Wii Sports that comes with the console. That's pretty sad.\\nBack to PC gaming for me.   \n",
       "1428  I preordered these to replace my X41's.  The release was pushed back several months but they finally arrived.\\n\\nMy X41's have one serious flaw - they pop every time a wireless device accesses WiFi and can interfere with access speed.  This new set fixes that one problem but fails to deliver the same quality sound and construction.\\n\\nNOT PAIRED - INSTRUCTIONS ARE WRONG\\nOut of the box the headset was NOT PAIRED with the transmitter.  The instructions to do this procedure ARE WRONG.  I  thought my set was broken!  Follow the first part of the pairing steps but on the transmitter, only hold the pair button until it starts flashing, then release and wait.  It is horrible that the instructions provided are wrong.  I found the solution in a review on another site.\\n\\nBUZZ - ANNOYING\\nThere is no more pop or hiss like in the older models.  This headset has clean, pure sound - except for the buzz.  The buzz was predominately in the right side and was unaffected by cable or input combinations.  Like the other reviewer on Amazon noted - the frequency and volume varies which makes it hard to ignore.\\n\\nSOUND QUALITY - POOR\\nIf you have X41's you will be disappointed in the sound quality of Turtle Beach's newer headsets (see my other reviews).  I'm not sure if they are using lower quality components but the new models sound like you have your finger in your ears!  Even with the bass boost on, the bass doesn't come close to the X41's.\\nThis headset also has a harsh compressor or limiter that keeps the volume at a constant level.  It might seem like a good thing but it starts to get weird when your gun is quieter than the sound of boots on the pavement around you.  Unlike the higher models, there is no way to defeat this.  This is not an issue with the X41's\\n\\nBUILD QUALITY - CHEAP\\nYou paid how much for these?  They feel like a product that costs $20.  There is a noticeable difference in build quality and feel versus the older X41's.\\n\\nSUMMARY\\nStay away!   \n",
       "\n",
       "                                                                                                                                                                                                                                                                                                                                                                                                                                                                                                                                                                                                                                                                                                                                         lemmatized  \\\n",
       "1659                                                                                                                                                                                                                                                                                                                                                                                           [extra, thing, include, screen, protector, be, great, actual, screen, protector, be, horrible, adhesive, protector, be, only, corner, add, thickness, protector, only, area, so, place, even, do, perfectly, have, least, huge, air, bubble, corner, screen, live, air, bubble, screen, do, protect, scratch, i, dont, recommend, screen, protector]   \n",
       "4041                                                                                                                                                                                                                                                                                                                                                                                                                                                                                                                                                                                                                                                                                                                                        [great]   \n",
       "1973                                                                                                                                                                                                                                                                                                                                                                                                                                                                                                                                                                                [i, probably, have, read, more, game, i, bought, grand, theft, auto, west, i, be, not, fan, grand, theft, auto, type, game, wouldnt, recommend, share, opinion]   \n",
       "1326                                                                                                                                                                                                                                                                                                     [tiger, wood, play, wii, be, major, disappointment, many, others, have, mention, put, be, simply, awful, unplayable, career, mode, short, game, chip, bunker, etc, be, also, terrible, tee, longer, iron, shot, be, great, scenery, be, great, game, be, be, great, not, wii, be, perfect, golf, game, overall, ive, be, disappointed, wii, whole, best, game, so, far, be, wii, sport, come, console, thats, pretty, sad, back, pc, game]   \n",
       "1428  [i, preordered, replace, x41s, release, be, push, back, several, month, finally, arrive, x41s, have, serious, flaw, pop, time, wireless, device, access, wifi, interfere, access, speed, new, set, fix, problem, fails, deliver, same, quality, sound, construction, not, pair, instruction, be, wrong, box, headset, be, not, pair, transmitter, instruction, do, procedure, be, wrong, i, thought, set, be, broken, follow, first, part, pair, step, transmitter, only, hold, pair, button, start, flash, then, release, wait, be, horrible, instruction, provide, be, wrong, i, found, solution, review, site, buzz, annoy, there, be, more, pop, hiss, old, model, headset, have, clean, pure, sound, buzz, buzz, be, predominately, ...]   \n",
       "\n",
       "      sentiment_score  \n",
       "1659           -1.875  \n",
       "4041            0.000  \n",
       "1973           -0.500  \n",
       "1326           -0.875  \n",
       "1428           -1.750  "
      ]
     },
     "execution_count": 45,
     "metadata": {},
     "output_type": "execute_result"
    }
   ],
   "source": [
    "data['sentiment_score'] = data['lemmatized'].apply(lambda tokens: get_sentiment_score(tokens))\n",
    "data[['reviewText','lemmatized','sentiment_score']].sample(5)"
   ]
  },
  {
   "cell_type": "code",
   "execution_count": 46,
   "id": "35c36c0e",
   "metadata": {
    "scrolled": false
   },
   "outputs": [
    {
     "data": {
      "text/html": [
       "<div>\n",
       "<style scoped>\n",
       "    .dataframe tbody tr th:only-of-type {\n",
       "        vertical-align: middle;\n",
       "    }\n",
       "\n",
       "    .dataframe tbody tr th {\n",
       "        vertical-align: top;\n",
       "    }\n",
       "\n",
       "    .dataframe thead th {\n",
       "        text-align: right;\n",
       "    }\n",
       "</style>\n",
       "<table border=\"1\" class=\"dataframe\">\n",
       "  <thead>\n",
       "    <tr style=\"text-align: right;\">\n",
       "      <th></th>\n",
       "      <th>reviewText</th>\n",
       "      <th>lemmatized</th>\n",
       "      <th>sentiment_score</th>\n",
       "    </tr>\n",
       "  </thead>\n",
       "  <tbody>\n",
       "    <tr>\n",
       "      <th>2235</th>\n",
       "      <td>I bought it because it read \"co-op\", when in reality it just gives you more foes, splits your screen, and lets the other player tag along basically. You don't get to actually cooperate on anything. Whichever of the two gets to a certain cinematic point (where you still control the character but only take the pre-defined actions) becomes the main player full screen, while the second player gets to look at you play. Very, very silly.\\n\\nThe game is fun enough to play single player, and online.</td>\n",
       "      <td>[i, bought, read, coop, reality, just, give, more, foe, split, screen, let, other, player, tag, basically, dont, get, actually, cooperate, anything, whichever, get, certain, cinematic, point, still, control, character, only, take, predefined, action, becomes, main, player, full, screen, second, player, get, look, play, very, very, silly, game, be, fun, enough, play, single, player, online]</td>\n",
       "      <td>-0.125</td>\n",
       "    </tr>\n",
       "    <tr>\n",
       "      <th>3420</th>\n",
       "      <td>I love Robin and I love his Amiibo.</td>\n",
       "      <td>[i, love, robin, i, love, amiibo]</td>\n",
       "      <td>1.000</td>\n",
       "    </tr>\n",
       "    <tr>\n",
       "      <th>2817</th>\n",
       "      <td>I picked this up on sale here and was not regretting this.  yes the game is short but it is a lot of fun and i really enjoyed the story</td>\n",
       "      <td>[i, picked, up, sale, here, be, not, regret, yes, game, be, short, be, lot, fun, i, really, enjoy, story]</td>\n",
       "      <td>1.375</td>\n",
       "    </tr>\n",
       "    <tr>\n",
       "      <th>908</th>\n",
       "      <td>If gamers are looking for a regular rpg this isn't Final Fantasy.  Very hard to take care of this many characters in the game and deciding who to put in your party (and sometimes have no choice about it).  The enemies are very tough and several of them in the very start of the game and you cannot level up where you can defeat them easily.  (Even had a hard time of a summon defeating an enemy).  (In a regular rpg if you cannot defeat a boss you just go out and level up some more or get items to defeat them -- here you cannot, especially in the beginning of this game.)\\n\\nThe camera angle isn't that great either.  For myself, just didn't go further with the game.  (I did like the recent games from Square of I Am Setsuna, Star Ocean, Braverly Default series).  But they have failed with FF games since FFX.</td>\n",
       "      <td>[gamers, be, look, regular, rpg, isnt, final, fantasy, very, hard, take, care, many, character, game, decide, put, party, sometimes, have, choice, enemy, be, very, tough, several, very, start, game, not, level, up, defeat, easily, even, have, hard, time, summon, defeat, enemy, regular, rpg, not, defeat, bos, just, go, level, up, more, get, item, defeat, here, not, especially, begin, game, camera, angle, isnt, great, just, didnt, go, far, game, i, do, recent, game, square, i, be, setsuna, star, ocean, braverly, default, series, have, fail, ff, game, ffx]</td>\n",
       "      <td>-4.125</td>\n",
       "    </tr>\n",
       "    <tr>\n",
       "      <th>1361</th>\n",
       "      <td>Worked well for 3-4 hours, after that controller kept randomly firing (R2 activated), after another hour fire was stuck on. Unusable. Return started.</td>\n",
       "      <td>[work, well, hour, controller, kept, randomly, fire, r2, activate, hour, fire, be, stuck, unusable, return, start]</td>\n",
       "      <td>0.250</td>\n",
       "    </tr>\n",
       "  </tbody>\n",
       "</table>\n",
       "</div>"
      ],
      "text/plain": [
       "                                                                                                                                                                                                                                                                                                                                                                                                                                                                                                                                                                                                                                                                                                                                                                                                                                         reviewText  \\\n",
       "2235                                                                                                                                                                                                                                                                                                                               I bought it because it read \"co-op\", when in reality it just gives you more foes, splits your screen, and lets the other player tag along basically. You don't get to actually cooperate on anything. Whichever of the two gets to a certain cinematic point (where you still control the character but only take the pre-defined actions) becomes the main player full screen, while the second player gets to look at you play. Very, very silly.\\n\\nThe game is fun enough to play single player, and online.   \n",
       "3420                                                                                                                                                                                                                                                                                                                                                                                                                                                                                                                                                                                                                                                                                                                                                                                                            I love Robin and I love his Amiibo.   \n",
       "2817                                                                                                                                                                                                                                                                                                                                                                                                                                                                                                                                                                                                                                                                                                        I picked this up on sale here and was not regretting this.  yes the game is short but it is a lot of fun and i really enjoyed the story   \n",
       "908   If gamers are looking for a regular rpg this isn't Final Fantasy.  Very hard to take care of this many characters in the game and deciding who to put in your party (and sometimes have no choice about it).  The enemies are very tough and several of them in the very start of the game and you cannot level up where you can defeat them easily.  (Even had a hard time of a summon defeating an enemy).  (In a regular rpg if you cannot defeat a boss you just go out and level up some more or get items to defeat them -- here you cannot, especially in the beginning of this game.)\\n\\nThe camera angle isn't that great either.  For myself, just didn't go further with the game.  (I did like the recent games from Square of I Am Setsuna, Star Ocean, Braverly Default series).  But they have failed with FF games since FFX.   \n",
       "1361                                                                                                                                                                                                                                                                                                                                                                                                                                                                                                                                                                                                                                                                                          Worked well for 3-4 hours, after that controller kept randomly firing (R2 activated), after another hour fire was stuck on. Unusable. Return started.   \n",
       "\n",
       "                                                                                                                                                                                                                                                                                                                                                                                                                                                                                                                                                                           lemmatized  \\\n",
       "2235                                                                                                                                                                         [i, bought, read, coop, reality, just, give, more, foe, split, screen, let, other, player, tag, basically, dont, get, actually, cooperate, anything, whichever, get, certain, cinematic, point, still, control, character, only, take, predefined, action, becomes, main, player, full, screen, second, player, get, look, play, very, very, silly, game, be, fun, enough, play, single, player, online]   \n",
       "3420                                                                                                                                                                                                                                                                                                                                                                                                                                                                                                                                                [i, love, robin, i, love, amiibo]   \n",
       "2817                                                                                                                                                                                                                                                                                                                                                                                                                                                                        [i, picked, up, sale, here, be, not, regret, yes, game, be, short, be, lot, fun, i, really, enjoy, story]   \n",
       "908   [gamers, be, look, regular, rpg, isnt, final, fantasy, very, hard, take, care, many, character, game, decide, put, party, sometimes, have, choice, enemy, be, very, tough, several, very, start, game, not, level, up, defeat, easily, even, have, hard, time, summon, defeat, enemy, regular, rpg, not, defeat, bos, just, go, level, up, more, get, item, defeat, here, not, especially, begin, game, camera, angle, isnt, great, just, didnt, go, far, game, i, do, recent, game, square, i, be, setsuna, star, ocean, braverly, default, series, have, fail, ff, game, ffx]   \n",
       "1361                                                                                                                                                                                                                                                                                                                                                                                                                                                               [work, well, hour, controller, kept, randomly, fire, r2, activate, hour, fire, be, stuck, unusable, return, start]   \n",
       "\n",
       "      sentiment_score  \n",
       "2235           -0.125  \n",
       "3420            1.000  \n",
       "2817            1.375  \n",
       "908            -4.125  \n",
       "1361            0.250  "
      ]
     },
     "execution_count": 46,
     "metadata": {},
     "output_type": "execute_result"
    }
   ],
   "source": [
    "data[['reviewText','lemmatized','sentiment_score']].sample(5)"
   ]
  },
  {
   "cell_type": "code",
   "execution_count": null,
   "id": "4dd08160",
   "metadata": {},
   "outputs": [],
   "source": []
  }
 ],
 "metadata": {
  "kernelspec": {
   "display_name": "Python 3 (ipykernel)",
   "language": "python",
   "name": "python3"
  },
  "language_info": {
   "codemirror_mode": {
    "name": "ipython",
    "version": 3
   },
   "file_extension": ".py",
   "mimetype": "text/x-python",
   "name": "python",
   "nbconvert_exporter": "python",
   "pygments_lexer": "ipython3",
   "version": "3.8.10"
  }
 },
 "nbformat": 4,
 "nbformat_minor": 5
}
